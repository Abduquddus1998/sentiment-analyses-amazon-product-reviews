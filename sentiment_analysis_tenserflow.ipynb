{
 "cells": [
  {
   "cell_type": "code",
   "execution_count": 7,
   "id": "initial_id",
   "metadata": {
    "collapsed": true,
    "ExecuteTime": {
     "end_time": "2024-03-01T14:15:41.016236Z",
     "start_time": "2024-03-01T14:15:40.967984Z"
    }
   },
   "outputs": [],
   "source": [
    "import numpy as np\n",
    "import tensorflow as tf\n",
    "import pandas as pd\n",
    "import spacy\n",
    "from sklearn.model_selection import train_test_split\n",
    "from sklearn.metrics import accuracy_score\n",
    "from sklearn.preprocessing import LabelEncoder\n",
    "from tensorflow.keras.preprocessing.text import Tokenizer\n",
    "from tensorflow.keras.preprocessing.sequence import pad_sequences\n",
    "from tensorflow.keras.models import Sequential\n",
    "from tensorflow.keras.layers import Dense, Embedding, Flatten"
   ]
  },
  {
   "cell_type": "code",
   "outputs": [
    {
     "data": {
      "text/plain": "                         id  \\\n14929  AVpjEN4jLJeJML43rpUe   \n4554   AVphgVaX1cnluZ0-DR74   \n29678  AV1YE_muvKc47QAVgpwE   \n22604  AVpfl8cLLJeJML43AE3S   \n28903  AVpidLjVilAPnD_xEVpI   \n30412  AV1YE_muvKc47QAVgpwE   \n4190   AVphgVaX1cnluZ0-DR74   \n30838  AV1YE_muvKc47QAVgpwE   \n32645  AV1YE_muvKc47QAVgpwE   \n17544  AV1YnRtnglJLPUi8IJmV   \n\n                                                    name  \\\n14929  Brand New Amazon Kindle Fire 16gb 7 Ips Displa...   \n4554   Fire Tablet, 7 Display, Wi-Fi, 8 GB - Includes...   \n29678                                                NaN   \n22604                 Echo (White),,,\\r\\nEcho (White),,,   \n28903                                                NaN   \n30412                                                NaN   \n4190   Fire Tablet, 7 Display, Wi-Fi, 8 GB - Includes...   \n30838                                                NaN   \n32645                                                NaN   \n17544  Amazon Kindle Paperwhite - eBook reader - 4 GB...   \n\n                       asins           brand  \\\n14929             B018Y225IA          Amazon   \n4554              B018Y229OU          Amazon   \n29678             B00U3FPN4U  Amazon Fire Tv   \n22604  B00L9EPT8O,B01E6AO69U          Amazon   \n28903             B0189XYY0Q     Amazon Fire   \n30412             B00U3FPN4U  Amazon Fire Tv   \n4190              B018Y229OU          Amazon   \n30838             B00U3FPN4U  Amazon Fire Tv   \n32645             B00U3FPN4U  Amazon Fire Tv   \n17544             B00OQVZDJM          Amazon   \n\n                                              categories  \\\n14929  Computers/Tablets & Networking,Tablets & eBook...   \n4554   Fire Tablets,Tablets,Computers & Tablets,All T...   \n29678  Back To College,College Electronics,College Tv...   \n22604  Stereos,Remote Controls,Amazon Echo,Audio Dock...   \n28903  Electronics,Tablets & E-Readers,Tablets,Back T...   \n30412  Back To College,College Electronics,College Tv...   \n4190   Fire Tablets,Tablets,Computers & Tablets,All T...   \n30838  Back To College,College Electronics,College Tv...   \n32645  Back To College,College Electronics,College Tv...   \n17544  Walmart for Business,Office Electronics,Tablet...   \n\n                                                    keys manufacturer  \\\n14929  841667103143,0841667103143,brandnewamazonkindl...       Amazon   \n4554   firetablet7displaywifi8gbincludesspecialoffers...       Amazon   \n29678  848719057492,amazonfiretv/51454342,amazonfiret...       Amazon   \n22604  echowhite/263039693056,echowhite/152558276095,...       Amazon   \n28903  841667101743,amazonfire/51441641,amazonfirehd1...       Amazon   \n30412  848719057492,amazonfiretv/51454342,amazonfiret...       Amazon   \n4190   firetablet7displaywifi8gbincludesspecialoffers...       Amazon   \n30838  848719057492,amazonfiretv/51454342,amazonfiret...       Amazon   \n32645  848719057492,amazonfiretv/51454342,amazonfiret...       Amazon   \n17544  amazon/b00oqvzdjm,848719056099,amazonkindlepap...       Amazon   \n\n                   reviews.date     reviews.dateAdded  \\\n14929  2016-11-06T00:00:00.000Z                   NaN   \n4554   2017-01-23T00:00:00.000Z  2017-05-21T03:50:34Z   \n29678  2016-05-19T00:00:00.000Z  2017-09-20T05:35:59Z   \n22604  2017-07-07T00:00:00.000Z                   NaN   \n28903  2017-08-04T00:00:00.000Z                   NaN   \n30412  2016-12-04T00:00:00.000Z  2017-09-20T05:35:56Z   \n4190   2016-01-25T00:00:00.000Z  2017-07-02T13:15:46Z   \n30838  2017-01-16T00:00:00.000Z  2017-09-20T05:35:55Z   \n32645  2017-05-15T00:00:00.000Z  2017-09-20T05:35:53Z   \n17544  2015-07-31T00:00:00.000Z  2017-09-05T22:09:30Z   \n\n                                        reviews.dateSeen  ...  \\\n14929  2017-08-27T00:00:00Z,2017-08-09T00:00:00Z,2017...  ...   \n4554   2017-04-30T00:25:00.000Z,2017-06-07T08:14:00.000Z  ...   \n29678  2017-08-25T22:41:05.219Z,2017-08-19T09:25:44.1...  ...   \n22604  2017-09-28T00:00:00Z,2017-09-08T00:00:00Z,2017...  ...   \n28903  2017-09-03T08:45:17.350Z,2017-08-27T11:00:57.0...  ...   \n30412  2017-08-25T22:22:17.937Z,2017-08-19T09:27:03.8...  ...   \n4190   2017-06-07T08:13:00.000Z,2017-04-30T00:17:00.000Z  ...   \n30838  2017-08-25T22:21:39.726Z,2017-08-19T09:26:44.3...  ...   \n32645  2017-08-25T22:06:31.848Z,2017-08-19T09:35:50.0...  ...   \n17544  2017-08-31T22:34:17.000Z,2017-08-02T19:50:12.0...  ...   \n\n      reviews.doRecommend reviews.id  reviews.numHelpful  reviews.rating  \\\n14929                True        NaN                 0.0             5.0   \n4554                 True        NaN                 0.0             4.0   \n29678                True        NaN                 0.0             5.0   \n22604                True        NaN                 0.0             4.0   \n28903                True        NaN                 0.0             4.0   \n30412                True        NaN                 0.0             5.0   \n4190                 True        NaN                 0.0             5.0   \n30838                True        NaN                 0.0             5.0   \n32645                True        NaN                 0.0             5.0   \n17544                True        NaN                 0.0             5.0   \n\n                                      reviews.sourceURLs  \\\n14929  http://reviews.bestbuy.com/3545/5025500/review...   \n4554   http://reviews.bestbuy.com/3545/5025800/review...   \n29678  http://reviews.bestbuy.com/3545/4370400/review...   \n22604  http://reviews.bestbuy.com/3545/5588528/review...   \n28903  http://reviews.bestbuy.com/3545/5386601/review...   \n30412  http://reviews.bestbuy.com/3545/4370400/review...   \n4190   http://reviews.bestbuy.com/3545/5025800/review...   \n30838  http://reviews.bestbuy.com/3545/4370400/review...   \n32645  http://reviews.bestbuy.com/3545/4370400/review...   \n17544  http://reviews.bestbuy.com/3545/9439005/review...   \n\n                                            reviews.text  \\\n14929  No wife loves reading books on it. It's a good...   \n4554   It is a nice convenient tablet for carrying ar...   \n29678  I love that this guy supports 4K content since...   \n22604  Decided to add another Echo to the household. ...   \n28903  This is a great tablet for the money. The only...   \n30412  Great product! Lots of channels from everywher...   \n4190   Haven't used it much, but so far I like it! Mo...   \n30838  Awesome alternative to cable television. Being...   \n32645  I researched and researched and researched str...   \n17544  After having worn out one Kindle and discovere...   \n\n                                     reviews.title reviews.userCity  \\\n14929                                         Nice              NaN   \n4554                                    It is nice              NaN   \n29678                     Great streaming device!!              NaN   \n22604                                  My 2nd Echo              NaN   \n28903                          Great for the price              NaN   \n30412                                     Awesome!              NaN   \n4190   Haven't used it much, but so far I like it!              NaN   \n30838                                      Fire TV              NaN   \n32645           Outstanding Value and Works Great!              NaN   \n17544                                 Forth Kindle              NaN   \n\n       reviews.userProvince  reviews.username  \n14929                   NaN            Jay021  \n4554                    NaN           Saundra  \n29678                   NaN          CarlosCE  \n22604                   NaN              Dana  \n28903                   NaN          NJGiants  \n30412                   NaN          Lolalola  \n4190                    NaN             Momma  \n30838                   NaN              John  \n32645                   NaN           stirfry  \n17544                   NaN       Heavyreader  \n\n[10 rows x 21 columns]",
      "text/html": "<div>\n<style scoped>\n    .dataframe tbody tr th:only-of-type {\n        vertical-align: middle;\n    }\n\n    .dataframe tbody tr th {\n        vertical-align: top;\n    }\n\n    .dataframe thead th {\n        text-align: right;\n    }\n</style>\n<table border=\"1\" class=\"dataframe\">\n  <thead>\n    <tr style=\"text-align: right;\">\n      <th></th>\n      <th>id</th>\n      <th>name</th>\n      <th>asins</th>\n      <th>brand</th>\n      <th>categories</th>\n      <th>keys</th>\n      <th>manufacturer</th>\n      <th>reviews.date</th>\n      <th>reviews.dateAdded</th>\n      <th>reviews.dateSeen</th>\n      <th>...</th>\n      <th>reviews.doRecommend</th>\n      <th>reviews.id</th>\n      <th>reviews.numHelpful</th>\n      <th>reviews.rating</th>\n      <th>reviews.sourceURLs</th>\n      <th>reviews.text</th>\n      <th>reviews.title</th>\n      <th>reviews.userCity</th>\n      <th>reviews.userProvince</th>\n      <th>reviews.username</th>\n    </tr>\n  </thead>\n  <tbody>\n    <tr>\n      <th>14929</th>\n      <td>AVpjEN4jLJeJML43rpUe</td>\n      <td>Brand New Amazon Kindle Fire 16gb 7 Ips Displa...</td>\n      <td>B018Y225IA</td>\n      <td>Amazon</td>\n      <td>Computers/Tablets &amp; Networking,Tablets &amp; eBook...</td>\n      <td>841667103143,0841667103143,brandnewamazonkindl...</td>\n      <td>Amazon</td>\n      <td>2016-11-06T00:00:00.000Z</td>\n      <td>NaN</td>\n      <td>2017-08-27T00:00:00Z,2017-08-09T00:00:00Z,2017...</td>\n      <td>...</td>\n      <td>True</td>\n      <td>NaN</td>\n      <td>0.0</td>\n      <td>5.0</td>\n      <td>http://reviews.bestbuy.com/3545/5025500/review...</td>\n      <td>No wife loves reading books on it. It's a good...</td>\n      <td>Nice</td>\n      <td>NaN</td>\n      <td>NaN</td>\n      <td>Jay021</td>\n    </tr>\n    <tr>\n      <th>4554</th>\n      <td>AVphgVaX1cnluZ0-DR74</td>\n      <td>Fire Tablet, 7 Display, Wi-Fi, 8 GB - Includes...</td>\n      <td>B018Y229OU</td>\n      <td>Amazon</td>\n      <td>Fire Tablets,Tablets,Computers &amp; Tablets,All T...</td>\n      <td>firetablet7displaywifi8gbincludesspecialoffers...</td>\n      <td>Amazon</td>\n      <td>2017-01-23T00:00:00.000Z</td>\n      <td>2017-05-21T03:50:34Z</td>\n      <td>2017-04-30T00:25:00.000Z,2017-06-07T08:14:00.000Z</td>\n      <td>...</td>\n      <td>True</td>\n      <td>NaN</td>\n      <td>0.0</td>\n      <td>4.0</td>\n      <td>http://reviews.bestbuy.com/3545/5025800/review...</td>\n      <td>It is a nice convenient tablet for carrying ar...</td>\n      <td>It is nice</td>\n      <td>NaN</td>\n      <td>NaN</td>\n      <td>Saundra</td>\n    </tr>\n    <tr>\n      <th>29678</th>\n      <td>AV1YE_muvKc47QAVgpwE</td>\n      <td>NaN</td>\n      <td>B00U3FPN4U</td>\n      <td>Amazon Fire Tv</td>\n      <td>Back To College,College Electronics,College Tv...</td>\n      <td>848719057492,amazonfiretv/51454342,amazonfiret...</td>\n      <td>Amazon</td>\n      <td>2016-05-19T00:00:00.000Z</td>\n      <td>2017-09-20T05:35:59Z</td>\n      <td>2017-08-25T22:41:05.219Z,2017-08-19T09:25:44.1...</td>\n      <td>...</td>\n      <td>True</td>\n      <td>NaN</td>\n      <td>0.0</td>\n      <td>5.0</td>\n      <td>http://reviews.bestbuy.com/3545/4370400/review...</td>\n      <td>I love that this guy supports 4K content since...</td>\n      <td>Great streaming device!!</td>\n      <td>NaN</td>\n      <td>NaN</td>\n      <td>CarlosCE</td>\n    </tr>\n    <tr>\n      <th>22604</th>\n      <td>AVpfl8cLLJeJML43AE3S</td>\n      <td>Echo (White),,,\\r\\nEcho (White),,,</td>\n      <td>B00L9EPT8O,B01E6AO69U</td>\n      <td>Amazon</td>\n      <td>Stereos,Remote Controls,Amazon Echo,Audio Dock...</td>\n      <td>echowhite/263039693056,echowhite/152558276095,...</td>\n      <td>Amazon</td>\n      <td>2017-07-07T00:00:00.000Z</td>\n      <td>NaN</td>\n      <td>2017-09-28T00:00:00Z,2017-09-08T00:00:00Z,2017...</td>\n      <td>...</td>\n      <td>True</td>\n      <td>NaN</td>\n      <td>0.0</td>\n      <td>4.0</td>\n      <td>http://reviews.bestbuy.com/3545/5588528/review...</td>\n      <td>Decided to add another Echo to the household. ...</td>\n      <td>My 2nd Echo</td>\n      <td>NaN</td>\n      <td>NaN</td>\n      <td>Dana</td>\n    </tr>\n    <tr>\n      <th>28903</th>\n      <td>AVpidLjVilAPnD_xEVpI</td>\n      <td>NaN</td>\n      <td>B0189XYY0Q</td>\n      <td>Amazon Fire</td>\n      <td>Electronics,Tablets &amp; E-Readers,Tablets,Back T...</td>\n      <td>841667101743,amazonfire/51441641,amazonfirehd1...</td>\n      <td>Amazon</td>\n      <td>2017-08-04T00:00:00.000Z</td>\n      <td>NaN</td>\n      <td>2017-09-03T08:45:17.350Z,2017-08-27T11:00:57.0...</td>\n      <td>...</td>\n      <td>True</td>\n      <td>NaN</td>\n      <td>0.0</td>\n      <td>4.0</td>\n      <td>http://reviews.bestbuy.com/3545/5386601/review...</td>\n      <td>This is a great tablet for the money. The only...</td>\n      <td>Great for the price</td>\n      <td>NaN</td>\n      <td>NaN</td>\n      <td>NJGiants</td>\n    </tr>\n    <tr>\n      <th>30412</th>\n      <td>AV1YE_muvKc47QAVgpwE</td>\n      <td>NaN</td>\n      <td>B00U3FPN4U</td>\n      <td>Amazon Fire Tv</td>\n      <td>Back To College,College Electronics,College Tv...</td>\n      <td>848719057492,amazonfiretv/51454342,amazonfiret...</td>\n      <td>Amazon</td>\n      <td>2016-12-04T00:00:00.000Z</td>\n      <td>2017-09-20T05:35:56Z</td>\n      <td>2017-08-25T22:22:17.937Z,2017-08-19T09:27:03.8...</td>\n      <td>...</td>\n      <td>True</td>\n      <td>NaN</td>\n      <td>0.0</td>\n      <td>5.0</td>\n      <td>http://reviews.bestbuy.com/3545/4370400/review...</td>\n      <td>Great product! Lots of channels from everywher...</td>\n      <td>Awesome!</td>\n      <td>NaN</td>\n      <td>NaN</td>\n      <td>Lolalola</td>\n    </tr>\n    <tr>\n      <th>4190</th>\n      <td>AVphgVaX1cnluZ0-DR74</td>\n      <td>Fire Tablet, 7 Display, Wi-Fi, 8 GB - Includes...</td>\n      <td>B018Y229OU</td>\n      <td>Amazon</td>\n      <td>Fire Tablets,Tablets,Computers &amp; Tablets,All T...</td>\n      <td>firetablet7displaywifi8gbincludesspecialoffers...</td>\n      <td>Amazon</td>\n      <td>2016-01-25T00:00:00.000Z</td>\n      <td>2017-07-02T13:15:46Z</td>\n      <td>2017-06-07T08:13:00.000Z,2017-04-30T00:17:00.000Z</td>\n      <td>...</td>\n      <td>True</td>\n      <td>NaN</td>\n      <td>0.0</td>\n      <td>5.0</td>\n      <td>http://reviews.bestbuy.com/3545/5025800/review...</td>\n      <td>Haven't used it much, but so far I like it! Mo...</td>\n      <td>Haven't used it much, but so far I like it!</td>\n      <td>NaN</td>\n      <td>NaN</td>\n      <td>Momma</td>\n    </tr>\n    <tr>\n      <th>30838</th>\n      <td>AV1YE_muvKc47QAVgpwE</td>\n      <td>NaN</td>\n      <td>B00U3FPN4U</td>\n      <td>Amazon Fire Tv</td>\n      <td>Back To College,College Electronics,College Tv...</td>\n      <td>848719057492,amazonfiretv/51454342,amazonfiret...</td>\n      <td>Amazon</td>\n      <td>2017-01-16T00:00:00.000Z</td>\n      <td>2017-09-20T05:35:55Z</td>\n      <td>2017-08-25T22:21:39.726Z,2017-08-19T09:26:44.3...</td>\n      <td>...</td>\n      <td>True</td>\n      <td>NaN</td>\n      <td>0.0</td>\n      <td>5.0</td>\n      <td>http://reviews.bestbuy.com/3545/4370400/review...</td>\n      <td>Awesome alternative to cable television. Being...</td>\n      <td>Fire TV</td>\n      <td>NaN</td>\n      <td>NaN</td>\n      <td>John</td>\n    </tr>\n    <tr>\n      <th>32645</th>\n      <td>AV1YE_muvKc47QAVgpwE</td>\n      <td>NaN</td>\n      <td>B00U3FPN4U</td>\n      <td>Amazon Fire Tv</td>\n      <td>Back To College,College Electronics,College Tv...</td>\n      <td>848719057492,amazonfiretv/51454342,amazonfiret...</td>\n      <td>Amazon</td>\n      <td>2017-05-15T00:00:00.000Z</td>\n      <td>2017-09-20T05:35:53Z</td>\n      <td>2017-08-25T22:06:31.848Z,2017-08-19T09:35:50.0...</td>\n      <td>...</td>\n      <td>True</td>\n      <td>NaN</td>\n      <td>0.0</td>\n      <td>5.0</td>\n      <td>http://reviews.bestbuy.com/3545/4370400/review...</td>\n      <td>I researched and researched and researched str...</td>\n      <td>Outstanding Value and Works Great!</td>\n      <td>NaN</td>\n      <td>NaN</td>\n      <td>stirfry</td>\n    </tr>\n    <tr>\n      <th>17544</th>\n      <td>AV1YnRtnglJLPUi8IJmV</td>\n      <td>Amazon Kindle Paperwhite - eBook reader - 4 GB...</td>\n      <td>B00OQVZDJM</td>\n      <td>Amazon</td>\n      <td>Walmart for Business,Office Electronics,Tablet...</td>\n      <td>amazon/b00oqvzdjm,848719056099,amazonkindlepap...</td>\n      <td>Amazon</td>\n      <td>2015-07-31T00:00:00.000Z</td>\n      <td>2017-09-05T22:09:30Z</td>\n      <td>2017-08-31T22:34:17.000Z,2017-08-02T19:50:12.0...</td>\n      <td>...</td>\n      <td>True</td>\n      <td>NaN</td>\n      <td>0.0</td>\n      <td>5.0</td>\n      <td>http://reviews.bestbuy.com/3545/9439005/review...</td>\n      <td>After having worn out one Kindle and discovere...</td>\n      <td>Forth Kindle</td>\n      <td>NaN</td>\n      <td>NaN</td>\n      <td>Heavyreader</td>\n    </tr>\n  </tbody>\n</table>\n<p>10 rows × 21 columns</p>\n</div>"
     },
     "execution_count": 2,
     "metadata": {},
     "output_type": "execute_result"
    }
   ],
   "source": [
    "nlp = spacy.load('en_core_web_lg')\n",
    "reviews_df = pd.read_csv(\"amazon_product_reviews.csv\", low_memory=False)\n",
    "reviews_df.sample(10)"
   ],
   "metadata": {
    "collapsed": false,
    "ExecuteTime": {
     "end_time": "2024-03-01T14:05:19.196799Z",
     "start_time": "2024-03-01T14:05:13.629236Z"
    }
   },
   "id": "3370f5584f94d24",
   "execution_count": 2
  },
  {
   "cell_type": "code",
   "outputs": [
    {
     "data": {
      "text/plain": "                                        reviews.text  reviews.rating\n0  This product so far has not disappointed. My c...             5.0\n1  great for beginner or experienced person. Boug...             5.0\n2  Inexpensive tablet for him to use and learn on...             5.0\n3  I've had my Fire HD 8 two weeks now and I love...             4.0\n4  I bought this for my grand daughter when she c...             5.0\n5  This amazon fire 8 inch tablet is the perfect ...             5.0\n6  Great for e-reading on the go, nice and light ...             4.0\n7  I gave this as a Christmas gift to my inlaws, ...             5.0\n8  Great as a device to read books. I like that i...             5.0\n9  I love ordering books and reading them with th...             5.0",
      "text/html": "<div>\n<style scoped>\n    .dataframe tbody tr th:only-of-type {\n        vertical-align: middle;\n    }\n\n    .dataframe tbody tr th {\n        vertical-align: top;\n    }\n\n    .dataframe thead th {\n        text-align: right;\n    }\n</style>\n<table border=\"1\" class=\"dataframe\">\n  <thead>\n    <tr style=\"text-align: right;\">\n      <th></th>\n      <th>reviews.text</th>\n      <th>reviews.rating</th>\n    </tr>\n  </thead>\n  <tbody>\n    <tr>\n      <th>0</th>\n      <td>This product so far has not disappointed. My c...</td>\n      <td>5.0</td>\n    </tr>\n    <tr>\n      <th>1</th>\n      <td>great for beginner or experienced person. Boug...</td>\n      <td>5.0</td>\n    </tr>\n    <tr>\n      <th>2</th>\n      <td>Inexpensive tablet for him to use and learn on...</td>\n      <td>5.0</td>\n    </tr>\n    <tr>\n      <th>3</th>\n      <td>I've had my Fire HD 8 two weeks now and I love...</td>\n      <td>4.0</td>\n    </tr>\n    <tr>\n      <th>4</th>\n      <td>I bought this for my grand daughter when she c...</td>\n      <td>5.0</td>\n    </tr>\n    <tr>\n      <th>5</th>\n      <td>This amazon fire 8 inch tablet is the perfect ...</td>\n      <td>5.0</td>\n    </tr>\n    <tr>\n      <th>6</th>\n      <td>Great for e-reading on the go, nice and light ...</td>\n      <td>4.0</td>\n    </tr>\n    <tr>\n      <th>7</th>\n      <td>I gave this as a Christmas gift to my inlaws, ...</td>\n      <td>5.0</td>\n    </tr>\n    <tr>\n      <th>8</th>\n      <td>Great as a device to read books. I like that i...</td>\n      <td>5.0</td>\n    </tr>\n    <tr>\n      <th>9</th>\n      <td>I love ordering books and reading them with th...</td>\n      <td>5.0</td>\n    </tr>\n  </tbody>\n</table>\n</div>"
     },
     "execution_count": 3,
     "metadata": {},
     "output_type": "execute_result"
    }
   ],
   "source": [
    "reviews_df = reviews_df[[\"reviews.text\", \"reviews.rating\"]]\n",
    "reviews_df.head(10)"
   ],
   "metadata": {
    "collapsed": false,
    "ExecuteTime": {
     "end_time": "2024-03-01T14:08:01.549687Z",
     "start_time": "2024-03-01T14:08:01.492499Z"
    }
   },
   "id": "3345575d965c9945",
   "execution_count": 3
  },
  {
   "cell_type": "code",
   "outputs": [],
   "source": [
    "def label_reviews(rating):\n",
    "    if rating == 5 or rating == 4:\n",
    "        return \"positive\"\n",
    "    elif rating == 2 or rating == 1:\n",
    "        return \"negative\"\n",
    "    else:\n",
    "        return \"neutral\""
   ],
   "metadata": {
    "collapsed": false,
    "ExecuteTime": {
     "end_time": "2024-03-01T14:08:49.039703Z",
     "start_time": "2024-03-01T14:08:49.025674Z"
    }
   },
   "id": "48b77e5534f81db4",
   "execution_count": 4
  },
  {
   "cell_type": "code",
   "outputs": [
    {
     "data": {
      "text/plain": "category\npositive    32316\nneutral      1532\nnegative      812\nName: count, dtype: int64"
     },
     "execution_count": 5,
     "metadata": {},
     "output_type": "execute_result"
    }
   ],
   "source": [
    "reviews_df[\"category\"] = reviews_df[\"reviews.rating\"].apply(label_reviews)\n",
    "reviews_df[\"category\"].value_counts()"
   ],
   "metadata": {
    "collapsed": false,
    "ExecuteTime": {
     "end_time": "2024-03-01T14:08:50.853040Z",
     "start_time": "2024-03-01T14:08:50.837679Z"
    }
   },
   "id": "880df0e51662869b",
   "execution_count": 5
  },
  {
   "cell_type": "code",
   "outputs": [
    {
     "data": {
      "text/plain": "                                        reviews.text  reviews.rating  category\n0  This product so far has not disappointed. My c...             5.0  positive\n1  great for beginner or experienced person. Boug...             5.0  positive\n2  Inexpensive tablet for him to use and learn on...             5.0  positive\n3  I've had my Fire HD 8 two weeks now and I love...             4.0  positive\n4  I bought this for my grand daughter when she c...             5.0  positive",
      "text/html": "<div>\n<style scoped>\n    .dataframe tbody tr th:only-of-type {\n        vertical-align: middle;\n    }\n\n    .dataframe tbody tr th {\n        vertical-align: top;\n    }\n\n    .dataframe thead th {\n        text-align: right;\n    }\n</style>\n<table border=\"1\" class=\"dataframe\">\n  <thead>\n    <tr style=\"text-align: right;\">\n      <th></th>\n      <th>reviews.text</th>\n      <th>reviews.rating</th>\n      <th>category</th>\n    </tr>\n  </thead>\n  <tbody>\n    <tr>\n      <th>0</th>\n      <td>This product so far has not disappointed. My c...</td>\n      <td>5.0</td>\n      <td>positive</td>\n    </tr>\n    <tr>\n      <th>1</th>\n      <td>great for beginner or experienced person. Boug...</td>\n      <td>5.0</td>\n      <td>positive</td>\n    </tr>\n    <tr>\n      <th>2</th>\n      <td>Inexpensive tablet for him to use and learn on...</td>\n      <td>5.0</td>\n      <td>positive</td>\n    </tr>\n    <tr>\n      <th>3</th>\n      <td>I've had my Fire HD 8 two weeks now and I love...</td>\n      <td>4.0</td>\n      <td>positive</td>\n    </tr>\n    <tr>\n      <th>4</th>\n      <td>I bought this for my grand daughter when she c...</td>\n      <td>5.0</td>\n      <td>positive</td>\n    </tr>\n  </tbody>\n</table>\n</div>"
     },
     "execution_count": 6,
     "metadata": {},
     "output_type": "execute_result"
    }
   ],
   "source": [
    "reviews_df.head()"
   ],
   "metadata": {
    "collapsed": false,
    "ExecuteTime": {
     "end_time": "2024-03-01T14:15:05.674805Z",
     "start_time": "2024-03-01T14:15:05.657597Z"
    }
   },
   "id": "5a064895deb8a197",
   "execution_count": 6
  },
  {
   "cell_type": "code",
   "outputs": [
    {
     "data": {
      "text/plain": "category\n2    32316\n1     1532\n0      812\nName: count, dtype: int64"
     },
     "execution_count": 8,
     "metadata": {},
     "output_type": "execute_result"
    }
   ],
   "source": [
    "label_encoder = LabelEncoder()\n",
    "reviews_df[\"category\"] = label_encoder.fit_transform(reviews_df[\"category\"])\n",
    "\n",
    "reviews_df[\"category\"].value_counts()"
   ],
   "metadata": {
    "collapsed": false,
    "ExecuteTime": {
     "end_time": "2024-03-01T14:16:50.077497Z",
     "start_time": "2024-03-01T14:16:50.053672Z"
    }
   },
   "id": "c41a3fcb2f7a379a",
   "execution_count": 8
  },
  {
   "cell_type": "code",
   "outputs": [
    {
     "ename": "AttributeError",
     "evalue": "'float' object has no attribute 'lower'",
     "output_type": "error",
     "traceback": [
      "\u001B[0;31m---------------------------------------------------------------------------\u001B[0m",
      "\u001B[0;31mAttributeError\u001B[0m                            Traceback (most recent call last)",
      "Cell \u001B[0;32mIn[10], line 5\u001B[0m\n\u001B[1;32m      3\u001B[0m reviews \u001B[38;5;241m=\u001B[39m reviews_df[\u001B[38;5;124m\"\u001B[39m\u001B[38;5;124mreviews.text\u001B[39m\u001B[38;5;124m\"\u001B[39m]\u001B[38;5;241m.\u001B[39mvalues\n\u001B[1;32m      4\u001B[0m tokenizer \u001B[38;5;241m=\u001B[39m Tokenizer(num_words\u001B[38;5;241m=\u001B[39mmax_words)\n\u001B[0;32m----> 5\u001B[0m \u001B[43mtokenizer\u001B[49m\u001B[38;5;241;43m.\u001B[39;49m\u001B[43mfit_on_texts\u001B[49m\u001B[43m(\u001B[49m\u001B[43mreviews\u001B[49m\u001B[43m)\u001B[49m\n\u001B[1;32m      6\u001B[0m sequences \u001B[38;5;241m=\u001B[39m tokenizer\u001B[38;5;241m.\u001B[39mtexts_to_sequences(reviews)\n\u001B[1;32m      7\u001B[0m X \u001B[38;5;241m=\u001B[39m pad_sequences(sequences, maxlen\u001B[38;5;241m=\u001B[39mmax_len)\n",
      "File \u001B[0;32m/Library/Frameworks/Python.framework/Versions/3.11/lib/python3.11/site-packages/keras/src/preprocessing/text.py:293\u001B[0m, in \u001B[0;36mTokenizer.fit_on_texts\u001B[0;34m(self, texts)\u001B[0m\n\u001B[1;32m    291\u001B[0m \u001B[38;5;28;01melse\u001B[39;00m:\n\u001B[1;32m    292\u001B[0m     \u001B[38;5;28;01mif\u001B[39;00m \u001B[38;5;28mself\u001B[39m\u001B[38;5;241m.\u001B[39manalyzer \u001B[38;5;129;01mis\u001B[39;00m \u001B[38;5;28;01mNone\u001B[39;00m:\n\u001B[0;32m--> 293\u001B[0m         seq \u001B[38;5;241m=\u001B[39m \u001B[43mtext_to_word_sequence\u001B[49m\u001B[43m(\u001B[49m\n\u001B[1;32m    294\u001B[0m \u001B[43m            \u001B[49m\u001B[43mtext\u001B[49m\u001B[43m,\u001B[49m\n\u001B[1;32m    295\u001B[0m \u001B[43m            \u001B[49m\u001B[43mfilters\u001B[49m\u001B[38;5;241;43m=\u001B[39;49m\u001B[38;5;28;43mself\u001B[39;49m\u001B[38;5;241;43m.\u001B[39;49m\u001B[43mfilters\u001B[49m\u001B[43m,\u001B[49m\n\u001B[1;32m    296\u001B[0m \u001B[43m            \u001B[49m\u001B[43mlower\u001B[49m\u001B[38;5;241;43m=\u001B[39;49m\u001B[38;5;28;43mself\u001B[39;49m\u001B[38;5;241;43m.\u001B[39;49m\u001B[43mlower\u001B[49m\u001B[43m,\u001B[49m\n\u001B[1;32m    297\u001B[0m \u001B[43m            \u001B[49m\u001B[43msplit\u001B[49m\u001B[38;5;241;43m=\u001B[39;49m\u001B[38;5;28;43mself\u001B[39;49m\u001B[38;5;241;43m.\u001B[39;49m\u001B[43msplit\u001B[49m\u001B[43m,\u001B[49m\n\u001B[1;32m    298\u001B[0m \u001B[43m        \u001B[49m\u001B[43m)\u001B[49m\n\u001B[1;32m    299\u001B[0m     \u001B[38;5;28;01melse\u001B[39;00m:\n\u001B[1;32m    300\u001B[0m         seq \u001B[38;5;241m=\u001B[39m \u001B[38;5;28mself\u001B[39m\u001B[38;5;241m.\u001B[39manalyzer(text)\n",
      "File \u001B[0;32m/Library/Frameworks/Python.framework/Versions/3.11/lib/python3.11/site-packages/keras/src/preprocessing/text.py:74\u001B[0m, in \u001B[0;36mtext_to_word_sequence\u001B[0;34m(input_text, filters, lower, split)\u001B[0m\n\u001B[1;32m     46\u001B[0m \u001B[38;5;250m\u001B[39m\u001B[38;5;124mr\u001B[39m\u001B[38;5;124;03m\"\"\"Converts a text to a sequence of words (or tokens).\u001B[39;00m\n\u001B[1;32m     47\u001B[0m \n\u001B[1;32m     48\u001B[0m \u001B[38;5;124;03mDeprecated: `tf.keras.preprocessing.text.text_to_word_sequence` does not\u001B[39;00m\n\u001B[0;32m   (...)\u001B[0m\n\u001B[1;32m     71\u001B[0m \u001B[38;5;124;03m    A list of words (or tokens).\u001B[39;00m\n\u001B[1;32m     72\u001B[0m \u001B[38;5;124;03m\"\"\"\u001B[39;00m\n\u001B[1;32m     73\u001B[0m \u001B[38;5;28;01mif\u001B[39;00m lower:\n\u001B[0;32m---> 74\u001B[0m     input_text \u001B[38;5;241m=\u001B[39m \u001B[43minput_text\u001B[49m\u001B[38;5;241;43m.\u001B[39;49m\u001B[43mlower\u001B[49m()\n\u001B[1;32m     76\u001B[0m translate_dict \u001B[38;5;241m=\u001B[39m {c: split \u001B[38;5;28;01mfor\u001B[39;00m c \u001B[38;5;129;01min\u001B[39;00m filters}\n\u001B[1;32m     77\u001B[0m translate_map \u001B[38;5;241m=\u001B[39m \u001B[38;5;28mstr\u001B[39m\u001B[38;5;241m.\u001B[39mmaketrans(translate_dict)\n",
      "\u001B[0;31mAttributeError\u001B[0m: 'float' object has no attribute 'lower'"
     ]
    }
   ],
   "source": [
    "max_words = 1000\n",
    "max_len = 50\n",
    "reviews = reviews_df[\"reviews.text\"].values\n",
    "tokenizer = Tokenizer(num_words=max_words)\n",
    "tokenizer.fit_on_texts(reviews)\n",
    "sequences = tokenizer.texts_to_sequences(reviews)\n",
    "X = pad_sequences(sequences, maxlen=max_len)"
   ],
   "metadata": {
    "collapsed": false,
    "ExecuteTime": {
     "end_time": "2024-03-01T14:22:57.667566Z",
     "start_time": "2024-03-01T14:22:57.540631Z"
    }
   },
   "id": "df7aa25a4d0d609c",
   "execution_count": 10
  },
  {
   "cell_type": "code",
   "outputs": [],
   "source": [
    "# Sample reviews and their corresponding sentiment labels\n",
    "reviews = [\n",
    "    \"The movie was great, I loved it!\",\n",
    "    \"The movie was terrible, it was a waste of time.\",\n",
    "    \"The acting was okay, but the plot was weak.\",\n",
    "    \"I'm not sure how I feel about this movie.\",\n",
    "    \"The movie exceeded my expectations.\"\n",
    "]\n",
    "sentiments = ['positive', 'negative', 'negative', 'neutral', 'positive']\n",
    "\n",
    "# Tokenization and sequence padding\n",
    "max_words = 1000\n",
    "max_len = 50\n",
    "tokenizer = Tokenizer(num_words=max_words)\n",
    "tokenizer.fit_on_texts(reviews)\n",
    "sequences = tokenizer.texts_to_sequences(reviews)\n",
    "X = pad_sequences(sequences, maxlen=max_len)\n",
    "\n",
    "# Convert labels to one-hot encoded vectors\n",
    "label_dict = {'positive': 0, 'negative': 1, 'neutral': 2}\n",
    "y = np.array([label_dict[sentiment] for sentiment in sentiments])\n",
    "\n",
    "# Split data into training and testing sets\n",
    "X_train, X_test, y_train, y_test = train_test_split(X, y, test_size=0.2, random_state=42)\n",
    "\n",
    "# Define the model architecture\n",
    "model = Sequential()\n",
    "model.add(Embedding(input_dim=max_words, output_dim=50, input_length=max_len))\n",
    "model.add(Flatten())\n",
    "model.add(Dense(64, activation='relu'))\n",
    "model.add(Dense(3, activation='softmax'))  # Output layer with 3 units for 3 classes\n",
    "\n",
    "# Compile the model\n",
    "model.compile(optimizer='adam', loss='sparse_categorical_crossentropy', metrics=['accuracy'])\n",
    "\n",
    "# Train the model\n",
    "model.fit(X_train, y_train, epochs=10, batch_size=32, validation_split=0.2)\n",
    "\n",
    "# Evaluate the model\n",
    "loss, accuracy = model.evaluate(X_test, y_test)\n",
    "print(\"Test Accuracy:\", accuracy)\n",
    "\n",
    "# Make predictions\n",
    "y_pred = np.argmax(model.predict(X_test), axis=-1)\n",
    "\n",
    "# Convert predicted labels back to original sentiments\n",
    "inv_label_dict = {v: k for k, v in label_dict.items()}\n",
    "y_pred_sentiments = [inv_label_dict[pred] for pred in y_pred]\n",
    "\n",
    "# Calculate accuracy\n",
    "accuracy = accuracy_score(sentiments, y_pred_sentiments)\n",
    "print(\"Accuracy:\", accuracy)"
   ],
   "metadata": {
    "collapsed": false
   },
   "id": "9f13793554f05cfc"
  }
 ],
 "metadata": {
  "kernelspec": {
   "display_name": "Python 3",
   "language": "python",
   "name": "python3"
  },
  "language_info": {
   "codemirror_mode": {
    "name": "ipython",
    "version": 2
   },
   "file_extension": ".py",
   "mimetype": "text/x-python",
   "name": "python",
   "nbconvert_exporter": "python",
   "pygments_lexer": "ipython2",
   "version": "2.7.6"
  }
 },
 "nbformat": 4,
 "nbformat_minor": 5
}
