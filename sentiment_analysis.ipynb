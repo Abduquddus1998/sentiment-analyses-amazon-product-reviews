{
 "cells": [
  {
   "cell_type": "code",
   "execution_count": 154,
   "id": "initial_id",
   "metadata": {
    "collapsed": true,
    "ExecuteTime": {
     "end_time": "2024-02-29T20:09:31.990997Z",
     "start_time": "2024-02-29T20:09:31.979346Z"
    }
   },
   "outputs": [],
   "source": [
    "import pandas as pd\n",
    "import spacy\n",
    "\n",
    "from sklearn.preprocessing import LabelEncoder\n",
    "from sklearn.model_selection import train_test_split\n",
    "from sklearn.pipeline import Pipeline\n",
    "from sklearn.neural_network import MLPClassifier\n",
    "from sklearn.compose import ColumnTransformer\n",
    "from sklearn.preprocessing import StandardScaler, MinMaxScaler\n",
    "from sklearn.model_selection import GridSearchCV\n",
    "from sklearn.metrics import classification_report, ConfusionMatrixDisplay"
   ]
  },
  {
   "cell_type": "markdown",
   "source": [
    "### Loading Datasets ###"
   ],
   "metadata": {
    "collapsed": false
   },
   "id": "8beda994fb50bc07"
  },
  {
   "cell_type": "code",
   "outputs": [],
   "source": [
    "nlp = spacy.load('en_core_web_lg')"
   ],
   "metadata": {
    "collapsed": false,
    "ExecuteTime": {
     "end_time": "2024-02-29T19:21:07.599776Z",
     "start_time": "2024-02-29T19:21:05.140336Z"
    }
   },
   "id": "f28a2d09a9b47de9",
   "execution_count": 123
  },
  {
   "cell_type": "code",
   "outputs": [],
   "source": [
    "reviews_df = pd.read_csv(\"amazon_product_reviews.csv\", low_memory=False)"
   ],
   "metadata": {
    "collapsed": false,
    "ExecuteTime": {
     "end_time": "2024-02-29T19:21:08.607112Z",
     "start_time": "2024-02-29T19:21:07.589812Z"
    }
   },
   "id": "efb08218314cdf3b",
   "execution_count": 124
  },
  {
   "cell_type": "code",
   "outputs": [
    {
     "data": {
      "text/plain": "                         id  \\\n10089  AVphgVaX1cnluZ0-DR74   \n16146  AVqVGWLKnnc1JgDc3jF1   \n2327   AVqkIhwDv8e3D1O-lebb   \n6869   AVphgVaX1cnluZ0-DR74   \n6474   AVphgVaX1cnluZ0-DR74   \n19096  AV1YnRtnglJLPUi8IJmV   \n12521  AVphgVaX1cnluZ0-DR74   \n17267  AVqVGWLKnnc1JgDc3jF1   \n3320   AVsRjfwAU2_QcyX9PHqe   \n30095  AV1YE_muvKc47QAVgpwE   \n\n                                                    name       asins  \\\n10089  Fire Tablet, 7 Display, Wi-Fi, 8 GB - Includes...  B018Y229OU   \n16146  Fire Kids Edition Tablet, 7 Display, Wi-Fi, 16...  B018Y23MNM   \n2327   All-New Fire HD 8 Tablet, 8 HD Display, Wi-Fi,...  B01AHB9CN2   \n6869   Fire Tablet, 7 Display, Wi-Fi, 8 GB - Includes...  B018Y229OU   \n6474   Fire Tablet, 7 Display, Wi-Fi, 8 GB - Includes...  B018Y229OU   \n19096  Amazon Kindle Paperwhite - eBook reader - 4 GB...  B00OQVZDJM   \n12521  Fire Tablet, 7 Display, Wi-Fi, 8 GB - Includes...  B018Y229OU   \n17267  Amazon Kindle Paperwhite - eBook reader - 4 GB...  B018Y23MNM   \n3320   All-New Kindle E-reader - Black, 6 Glare-Free ...  B01J2G4VBG   \n30095                                                NaN  B00U3FPN4U   \n\n                brand                                         categories  \\\n10089          Amazon  Fire Tablets,Tablets,Computers & Tablets,All T...   \n16146          Amazon  Tablets,Fire Tablets,Computers & Tablets,All T...   \n2327           Amazon  Electronics,iPad & Tablets,All Tablets,Fire Ta...   \n6869           Amazon  Fire Tablets,Tablets,Computers & Tablets,All T...   \n6474           Amazon  Fire Tablets,Tablets,Computers & Tablets,All T...   \n19096          Amazon  Walmart for Business,Office Electronics,Tablet...   \n12521          Amazon  Fire Tablets,Tablets,Computers & Tablets,All T...   \n17267          Amazon  Tablets,Fire Tablets,Computers & Tablets,All T...   \n3320           Amazon  Amazon Devices & Accessories,Amazon Device Acc...   \n30095  Amazon Fire Tv  Back To College,College Electronics,College Tv...   \n\n                                                    keys manufacturer  \\\n10089  firetablet7displaywifi8gbincludesspecialoffers...       Amazon   \n16146  firekidseditiontablet7displaywifi16gbgreenkidp...       Amazon   \n2327   841667104676,amazon/53004484,amazon/b01ahb9cn2...       Amazon   \n6869   firetablet7displaywifi8gbincludesspecialoffers...       Amazon   \n6474   firetablet7displaywifi8gbincludesspecialoffers...       Amazon   \n19096  amazon/b00oqvzdjm,848719056099,amazonkindlepap...       Amazon   \n12521  firetablet7displaywifi8gbincludesspecialoffers...       Amazon   \n17267  firekidseditiontablet7displaywifi16gbgreenkidp...       Amazon   \n3320   0841667120171,841667120171,amazon5wusbofficial...       Amazon   \n30095  848719057492,amazonfiretv/51454342,amazonfiret...       Amazon   \n\n                   reviews.date     reviews.dateAdded  \\\n10089  2016-07-29T00:00:00.000Z  2017-05-21T01:50:58Z   \n16146  2017-01-17T00:00:00.000Z  2017-06-21T07:37:46Z   \n2327   2017-01-16T00:00:00.000Z  2017-05-21T06:03:00Z   \n6869   2016-12-08T00:00:00.000Z  2017-05-21T01:19:46Z   \n6474   2016-04-17T00:00:00.000Z  2017-05-21T01:18:19Z   \n19096  2016-09-09T00:00:00.000Z  2017-09-05T22:09:30Z   \n12521  2016-02-27T00:00:00.000Z  2017-05-21T03:21:00Z   \n17267  2017-01-30T00:00:00.000Z  2017-06-21T07:38:43Z   \n3320   2017-09-06T00:00:00.000Z                   NaN   \n30095  2016-07-16T00:00:00.000Z  2017-09-20T05:35:59Z   \n\n                                        reviews.dateSeen  ...  \\\n10089  2017-04-30T00:13:00.000Z,2017-06-07T08:17:00.000Z  ...   \n16146  2017-06-04T02:16:32.325Z,2017-06-03T18:41:08.209Z  ...   \n2327   2017-04-30T00:45:00.000Z,2017-06-07T09:04:00.000Z  ...   \n6869   2017-04-30T00:08:00.000Z,2017-06-07T08:15:00.000Z  ...   \n6474   2017-04-30T00:08:00.000Z,2017-06-07T08:18:00.000Z  ...   \n19096  2017-08-31T22:33:22.760Z,2017-08-02T19:53:55.2...  ...   \n12521  2017-04-30T00:22:00.000Z,2017-06-07T08:20:00.000Z  ...   \n17267  2017-06-04T02:18:08.226Z,2017-06-03T18:42:22.695Z  ...   \n3320                                2017-12-30T00:00:00Z  ...   \n30095  2017-08-25T22:40:31.020Z,2017-08-19T09:25:24.3...  ...   \n\n      reviews.doRecommend reviews.id  reviews.numHelpful  reviews.rating  \\\n10089                True        NaN                 0.0             5.0   \n16146                True        NaN                 0.0             4.0   \n2327                 True        NaN                 0.0             4.0   \n6869                 True        NaN                 0.0             5.0   \n6474                 True        NaN                 0.0             4.0   \n19096                True        NaN                 0.0             4.0   \n12521                True        NaN                 0.0             5.0   \n17267                True        NaN                 0.0             5.0   \n3320                  NaN        NaN                 NaN             5.0   \n30095                True        NaN                 0.0             5.0   \n\n                                      reviews.sourceURLs  \\\n10089  http://reviews.bestbuy.com/3545/5025800/review...   \n16146  http://reviews.bestbuy.com/3545/5026300/review...   \n2327   http://reviews.bestbuy.com/3545/5620406/review...   \n6869   http://reviews.bestbuy.com/3545/5025800/review...   \n6474   http://reviews.bestbuy.com/3545/5025800/review...   \n19096  http://reviews.bestbuy.com/3545/9439005/review...   \n12521  http://reviews.bestbuy.com/3545/5025800/review...   \n17267  http://reviews.bestbuy.com/3545/5026300/review...   \n3320   https://www.amazon.com/product-reviews/B01J2G4...   \n30095  http://reviews.bestbuy.com/3545/4370400/review...   \n\n                                            reviews.text  \\\n10089  I am very happy with this purchase. The price ...   \n16146  my kid loves it of course. I haven't had a cha...   \n2327   Bought for my wife.. she loves it.. took some ...   \n6869   Love it. never an issue, just like a computer ...   \n6474   For the price hands down best tablet out there...   \n19096  it was mainly purchased for reading in dark. i...   \n12521  My kindle fire has been easy to use and allows...   \n17267  Easy to use, easy apps and books, you can use ...   \n3320                                               Works   \n30095  Awesome products friendly staff would defiantl...   \n\n                              reviews.title reviews.userCity  \\\n10089  I'm very happy with the kindle fire.              NaN   \n16146                         good for kids              NaN   \n2327                            Good tablet              NaN   \n6869                          Great Product              NaN   \n6474                            Great value              NaN   \n19096                    Serves the purpose              NaN   \n12521          Really enjoy my kindle fire.              NaN   \n17267       Easy to use, full of great apps              NaN   \n3320                                  Works              NaN   \n30095                        Great products              NaN   \n\n       reviews.userProvince  reviews.username  \n10089                   NaN             Steph  \n16146                   NaN              dad1  \n2327                    NaN          Keebeler  \n6869                    NaN              Jada  \n6474                    NaN            Carlos  \n19096                   NaN              Raja  \n12521                   NaN          Chexy123  \n17267                   NaN         170904mom  \n3320                    NaN         booklover  \n30095                   NaN            Brando  \n\n[10 rows x 21 columns]",
      "text/html": "<div>\n<style scoped>\n    .dataframe tbody tr th:only-of-type {\n        vertical-align: middle;\n    }\n\n    .dataframe tbody tr th {\n        vertical-align: top;\n    }\n\n    .dataframe thead th {\n        text-align: right;\n    }\n</style>\n<table border=\"1\" class=\"dataframe\">\n  <thead>\n    <tr style=\"text-align: right;\">\n      <th></th>\n      <th>id</th>\n      <th>name</th>\n      <th>asins</th>\n      <th>brand</th>\n      <th>categories</th>\n      <th>keys</th>\n      <th>manufacturer</th>\n      <th>reviews.date</th>\n      <th>reviews.dateAdded</th>\n      <th>reviews.dateSeen</th>\n      <th>...</th>\n      <th>reviews.doRecommend</th>\n      <th>reviews.id</th>\n      <th>reviews.numHelpful</th>\n      <th>reviews.rating</th>\n      <th>reviews.sourceURLs</th>\n      <th>reviews.text</th>\n      <th>reviews.title</th>\n      <th>reviews.userCity</th>\n      <th>reviews.userProvince</th>\n      <th>reviews.username</th>\n    </tr>\n  </thead>\n  <tbody>\n    <tr>\n      <th>10089</th>\n      <td>AVphgVaX1cnluZ0-DR74</td>\n      <td>Fire Tablet, 7 Display, Wi-Fi, 8 GB - Includes...</td>\n      <td>B018Y229OU</td>\n      <td>Amazon</td>\n      <td>Fire Tablets,Tablets,Computers &amp; Tablets,All T...</td>\n      <td>firetablet7displaywifi8gbincludesspecialoffers...</td>\n      <td>Amazon</td>\n      <td>2016-07-29T00:00:00.000Z</td>\n      <td>2017-05-21T01:50:58Z</td>\n      <td>2017-04-30T00:13:00.000Z,2017-06-07T08:17:00.000Z</td>\n      <td>...</td>\n      <td>True</td>\n      <td>NaN</td>\n      <td>0.0</td>\n      <td>5.0</td>\n      <td>http://reviews.bestbuy.com/3545/5025800/review...</td>\n      <td>I am very happy with this purchase. The price ...</td>\n      <td>I'm very happy with the kindle fire.</td>\n      <td>NaN</td>\n      <td>NaN</td>\n      <td>Steph</td>\n    </tr>\n    <tr>\n      <th>16146</th>\n      <td>AVqVGWLKnnc1JgDc3jF1</td>\n      <td>Fire Kids Edition Tablet, 7 Display, Wi-Fi, 16...</td>\n      <td>B018Y23MNM</td>\n      <td>Amazon</td>\n      <td>Tablets,Fire Tablets,Computers &amp; Tablets,All T...</td>\n      <td>firekidseditiontablet7displaywifi16gbgreenkidp...</td>\n      <td>Amazon</td>\n      <td>2017-01-17T00:00:00.000Z</td>\n      <td>2017-06-21T07:37:46Z</td>\n      <td>2017-06-04T02:16:32.325Z,2017-06-03T18:41:08.209Z</td>\n      <td>...</td>\n      <td>True</td>\n      <td>NaN</td>\n      <td>0.0</td>\n      <td>4.0</td>\n      <td>http://reviews.bestbuy.com/3545/5026300/review...</td>\n      <td>my kid loves it of course. I haven't had a cha...</td>\n      <td>good for kids</td>\n      <td>NaN</td>\n      <td>NaN</td>\n      <td>dad1</td>\n    </tr>\n    <tr>\n      <th>2327</th>\n      <td>AVqkIhwDv8e3D1O-lebb</td>\n      <td>All-New Fire HD 8 Tablet, 8 HD Display, Wi-Fi,...</td>\n      <td>B01AHB9CN2</td>\n      <td>Amazon</td>\n      <td>Electronics,iPad &amp; Tablets,All Tablets,Fire Ta...</td>\n      <td>841667104676,amazon/53004484,amazon/b01ahb9cn2...</td>\n      <td>Amazon</td>\n      <td>2017-01-16T00:00:00.000Z</td>\n      <td>2017-05-21T06:03:00Z</td>\n      <td>2017-04-30T00:45:00.000Z,2017-06-07T09:04:00.000Z</td>\n      <td>...</td>\n      <td>True</td>\n      <td>NaN</td>\n      <td>0.0</td>\n      <td>4.0</td>\n      <td>http://reviews.bestbuy.com/3545/5620406/review...</td>\n      <td>Bought for my wife.. she loves it.. took some ...</td>\n      <td>Good tablet</td>\n      <td>NaN</td>\n      <td>NaN</td>\n      <td>Keebeler</td>\n    </tr>\n    <tr>\n      <th>6869</th>\n      <td>AVphgVaX1cnluZ0-DR74</td>\n      <td>Fire Tablet, 7 Display, Wi-Fi, 8 GB - Includes...</td>\n      <td>B018Y229OU</td>\n      <td>Amazon</td>\n      <td>Fire Tablets,Tablets,Computers &amp; Tablets,All T...</td>\n      <td>firetablet7displaywifi8gbincludesspecialoffers...</td>\n      <td>Amazon</td>\n      <td>2016-12-08T00:00:00.000Z</td>\n      <td>2017-05-21T01:19:46Z</td>\n      <td>2017-04-30T00:08:00.000Z,2017-06-07T08:15:00.000Z</td>\n      <td>...</td>\n      <td>True</td>\n      <td>NaN</td>\n      <td>0.0</td>\n      <td>5.0</td>\n      <td>http://reviews.bestbuy.com/3545/5025800/review...</td>\n      <td>Love it. never an issue, just like a computer ...</td>\n      <td>Great Product</td>\n      <td>NaN</td>\n      <td>NaN</td>\n      <td>Jada</td>\n    </tr>\n    <tr>\n      <th>6474</th>\n      <td>AVphgVaX1cnluZ0-DR74</td>\n      <td>Fire Tablet, 7 Display, Wi-Fi, 8 GB - Includes...</td>\n      <td>B018Y229OU</td>\n      <td>Amazon</td>\n      <td>Fire Tablets,Tablets,Computers &amp; Tablets,All T...</td>\n      <td>firetablet7displaywifi8gbincludesspecialoffers...</td>\n      <td>Amazon</td>\n      <td>2016-04-17T00:00:00.000Z</td>\n      <td>2017-05-21T01:18:19Z</td>\n      <td>2017-04-30T00:08:00.000Z,2017-06-07T08:18:00.000Z</td>\n      <td>...</td>\n      <td>True</td>\n      <td>NaN</td>\n      <td>0.0</td>\n      <td>4.0</td>\n      <td>http://reviews.bestbuy.com/3545/5025800/review...</td>\n      <td>For the price hands down best tablet out there...</td>\n      <td>Great value</td>\n      <td>NaN</td>\n      <td>NaN</td>\n      <td>Carlos</td>\n    </tr>\n    <tr>\n      <th>19096</th>\n      <td>AV1YnRtnglJLPUi8IJmV</td>\n      <td>Amazon Kindle Paperwhite - eBook reader - 4 GB...</td>\n      <td>B00OQVZDJM</td>\n      <td>Amazon</td>\n      <td>Walmart for Business,Office Electronics,Tablet...</td>\n      <td>amazon/b00oqvzdjm,848719056099,amazonkindlepap...</td>\n      <td>Amazon</td>\n      <td>2016-09-09T00:00:00.000Z</td>\n      <td>2017-09-05T22:09:30Z</td>\n      <td>2017-08-31T22:33:22.760Z,2017-08-02T19:53:55.2...</td>\n      <td>...</td>\n      <td>True</td>\n      <td>NaN</td>\n      <td>0.0</td>\n      <td>4.0</td>\n      <td>http://reviews.bestbuy.com/3545/9439005/review...</td>\n      <td>it was mainly purchased for reading in dark. i...</td>\n      <td>Serves the purpose</td>\n      <td>NaN</td>\n      <td>NaN</td>\n      <td>Raja</td>\n    </tr>\n    <tr>\n      <th>12521</th>\n      <td>AVphgVaX1cnluZ0-DR74</td>\n      <td>Fire Tablet, 7 Display, Wi-Fi, 8 GB - Includes...</td>\n      <td>B018Y229OU</td>\n      <td>Amazon</td>\n      <td>Fire Tablets,Tablets,Computers &amp; Tablets,All T...</td>\n      <td>firetablet7displaywifi8gbincludesspecialoffers...</td>\n      <td>Amazon</td>\n      <td>2016-02-27T00:00:00.000Z</td>\n      <td>2017-05-21T03:21:00Z</td>\n      <td>2017-04-30T00:22:00.000Z,2017-06-07T08:20:00.000Z</td>\n      <td>...</td>\n      <td>True</td>\n      <td>NaN</td>\n      <td>0.0</td>\n      <td>5.0</td>\n      <td>http://reviews.bestbuy.com/3545/5025800/review...</td>\n      <td>My kindle fire has been easy to use and allows...</td>\n      <td>Really enjoy my kindle fire.</td>\n      <td>NaN</td>\n      <td>NaN</td>\n      <td>Chexy123</td>\n    </tr>\n    <tr>\n      <th>17267</th>\n      <td>AVqVGWLKnnc1JgDc3jF1</td>\n      <td>Amazon Kindle Paperwhite - eBook reader - 4 GB...</td>\n      <td>B018Y23MNM</td>\n      <td>Amazon</td>\n      <td>Tablets,Fire Tablets,Computers &amp; Tablets,All T...</td>\n      <td>firekidseditiontablet7displaywifi16gbgreenkidp...</td>\n      <td>Amazon</td>\n      <td>2017-01-30T00:00:00.000Z</td>\n      <td>2017-06-21T07:38:43Z</td>\n      <td>2017-06-04T02:18:08.226Z,2017-06-03T18:42:22.695Z</td>\n      <td>...</td>\n      <td>True</td>\n      <td>NaN</td>\n      <td>0.0</td>\n      <td>5.0</td>\n      <td>http://reviews.bestbuy.com/3545/5026300/review...</td>\n      <td>Easy to use, easy apps and books, you can use ...</td>\n      <td>Easy to use, full of great apps</td>\n      <td>NaN</td>\n      <td>NaN</td>\n      <td>170904mom</td>\n    </tr>\n    <tr>\n      <th>3320</th>\n      <td>AVsRjfwAU2_QcyX9PHqe</td>\n      <td>All-New Kindle E-reader - Black, 6 Glare-Free ...</td>\n      <td>B01J2G4VBG</td>\n      <td>Amazon</td>\n      <td>Amazon Devices &amp; Accessories,Amazon Device Acc...</td>\n      <td>0841667120171,841667120171,amazon5wusbofficial...</td>\n      <td>Amazon</td>\n      <td>2017-09-06T00:00:00.000Z</td>\n      <td>NaN</td>\n      <td>2017-12-30T00:00:00Z</td>\n      <td>...</td>\n      <td>NaN</td>\n      <td>NaN</td>\n      <td>NaN</td>\n      <td>5.0</td>\n      <td>https://www.amazon.com/product-reviews/B01J2G4...</td>\n      <td>Works</td>\n      <td>Works</td>\n      <td>NaN</td>\n      <td>NaN</td>\n      <td>booklover</td>\n    </tr>\n    <tr>\n      <th>30095</th>\n      <td>AV1YE_muvKc47QAVgpwE</td>\n      <td>NaN</td>\n      <td>B00U3FPN4U</td>\n      <td>Amazon Fire Tv</td>\n      <td>Back To College,College Electronics,College Tv...</td>\n      <td>848719057492,amazonfiretv/51454342,amazonfiret...</td>\n      <td>Amazon</td>\n      <td>2016-07-16T00:00:00.000Z</td>\n      <td>2017-09-20T05:35:59Z</td>\n      <td>2017-08-25T22:40:31.020Z,2017-08-19T09:25:24.3...</td>\n      <td>...</td>\n      <td>True</td>\n      <td>NaN</td>\n      <td>0.0</td>\n      <td>5.0</td>\n      <td>http://reviews.bestbuy.com/3545/4370400/review...</td>\n      <td>Awesome products friendly staff would defiantl...</td>\n      <td>Great products</td>\n      <td>NaN</td>\n      <td>NaN</td>\n      <td>Brando</td>\n    </tr>\n  </tbody>\n</table>\n<p>10 rows × 21 columns</p>\n</div>"
     },
     "execution_count": 125,
     "metadata": {},
     "output_type": "execute_result"
    }
   ],
   "source": [
    "reviews_df.sample(10)"
   ],
   "metadata": {
    "collapsed": false,
    "ExecuteTime": {
     "end_time": "2024-02-29T19:21:09.530837Z",
     "start_time": "2024-02-29T19:21:09.462956Z"
    }
   },
   "id": "553206253af183a",
   "execution_count": 125
  },
  {
   "cell_type": "code",
   "outputs": [],
   "source": [
    "# maintaining only necessary columns while dropping all others\n",
    "reviews_df = reviews_df[[\"reviews.title\", \"reviews.text\", \"reviews.rating\"]].dropna()"
   ],
   "metadata": {
    "collapsed": false,
    "ExecuteTime": {
     "end_time": "2024-02-29T19:21:18.135696Z",
     "start_time": "2024-02-29T19:21:18.101637Z"
    }
   },
   "id": "66fe83997b61edb4",
   "execution_count": 126
  },
  {
   "cell_type": "code",
   "outputs": [
    {
     "data": {
      "text/plain": "                             reviews.title  \\\n0                                   Kindle   \n1                                very fast   \n2  Beginner tablet for our 9 year old son.   \n3                                  Good!!!   \n4                Fantastic Tablet for kids   \n5                    Just what we expected   \n6                    great e-reader tablet   \n7                          Great for gifts   \n8                        Great for reading   \n9             Great and lightweight reader   \n\n                                        reviews.text  reviews.rating  \n0  This product so far has not disappointed. My c...             5.0  \n1  great for beginner or experienced person. Boug...             5.0  \n2  Inexpensive tablet for him to use and learn on...             5.0  \n3  I've had my Fire HD 8 two weeks now and I love...             4.0  \n4  I bought this for my grand daughter when she c...             5.0  \n5  This amazon fire 8 inch tablet is the perfect ...             5.0  \n6  Great for e-reading on the go, nice and light ...             4.0  \n7  I gave this as a Christmas gift to my inlaws, ...             5.0  \n8  Great as a device to read books. I like that i...             5.0  \n9  I love ordering books and reading them with th...             5.0  ",
      "text/html": "<div>\n<style scoped>\n    .dataframe tbody tr th:only-of-type {\n        vertical-align: middle;\n    }\n\n    .dataframe tbody tr th {\n        vertical-align: top;\n    }\n\n    .dataframe thead th {\n        text-align: right;\n    }\n</style>\n<table border=\"1\" class=\"dataframe\">\n  <thead>\n    <tr style=\"text-align: right;\">\n      <th></th>\n      <th>reviews.title</th>\n      <th>reviews.text</th>\n      <th>reviews.rating</th>\n    </tr>\n  </thead>\n  <tbody>\n    <tr>\n      <th>0</th>\n      <td>Kindle</td>\n      <td>This product so far has not disappointed. My c...</td>\n      <td>5.0</td>\n    </tr>\n    <tr>\n      <th>1</th>\n      <td>very fast</td>\n      <td>great for beginner or experienced person. Boug...</td>\n      <td>5.0</td>\n    </tr>\n    <tr>\n      <th>2</th>\n      <td>Beginner tablet for our 9 year old son.</td>\n      <td>Inexpensive tablet for him to use and learn on...</td>\n      <td>5.0</td>\n    </tr>\n    <tr>\n      <th>3</th>\n      <td>Good!!!</td>\n      <td>I've had my Fire HD 8 two weeks now and I love...</td>\n      <td>4.0</td>\n    </tr>\n    <tr>\n      <th>4</th>\n      <td>Fantastic Tablet for kids</td>\n      <td>I bought this for my grand daughter when she c...</td>\n      <td>5.0</td>\n    </tr>\n    <tr>\n      <th>5</th>\n      <td>Just what we expected</td>\n      <td>This amazon fire 8 inch tablet is the perfect ...</td>\n      <td>5.0</td>\n    </tr>\n    <tr>\n      <th>6</th>\n      <td>great e-reader tablet</td>\n      <td>Great for e-reading on the go, nice and light ...</td>\n      <td>4.0</td>\n    </tr>\n    <tr>\n      <th>7</th>\n      <td>Great for gifts</td>\n      <td>I gave this as a Christmas gift to my inlaws, ...</td>\n      <td>5.0</td>\n    </tr>\n    <tr>\n      <th>8</th>\n      <td>Great for reading</td>\n      <td>Great as a device to read books. I like that i...</td>\n      <td>5.0</td>\n    </tr>\n    <tr>\n      <th>9</th>\n      <td>Great and lightweight reader</td>\n      <td>I love ordering books and reading them with th...</td>\n      <td>5.0</td>\n    </tr>\n  </tbody>\n</table>\n</div>"
     },
     "execution_count": 127,
     "metadata": {},
     "output_type": "execute_result"
    }
   ],
   "source": [
    "reviews_df.head(10)"
   ],
   "metadata": {
    "collapsed": false,
    "ExecuteTime": {
     "end_time": "2024-02-29T19:21:18.886930Z",
     "start_time": "2024-02-29T19:21:18.829231Z"
    }
   },
   "id": "153e5fac65e0e0e0",
   "execution_count": 127
  },
  {
   "cell_type": "markdown",
   "source": [
    "### EDA and Text Pre processing ###"
   ],
   "metadata": {
    "collapsed": false
   },
   "id": "38b2685ef9cb088b"
  },
  {
   "cell_type": "code",
   "outputs": [
    {
     "name": "stdout",
     "output_type": "stream",
     "text": [
      "<class 'pandas.core.frame.DataFrame'>\n",
      "Index: 34620 entries, 0 to 34659\n",
      "Data columns (total 3 columns):\n",
      " #   Column          Non-Null Count  Dtype  \n",
      "---  ------          --------------  -----  \n",
      " 0   reviews.title   34620 non-null  object \n",
      " 1   reviews.text    34620 non-null  object \n",
      " 2   reviews.rating  34620 non-null  float64\n",
      "dtypes: float64(1), object(2)\n",
      "memory usage: 1.1+ MB\n"
     ]
    }
   ],
   "source": [
    "reviews_df.info()"
   ],
   "metadata": {
    "collapsed": false,
    "ExecuteTime": {
     "end_time": "2024-02-29T19:21:24.149313Z",
     "start_time": "2024-02-29T19:21:24.129055Z"
    }
   },
   "id": "47504a3be1b246d7",
   "execution_count": 128
  },
  {
   "cell_type": "code",
   "outputs": [
    {
     "data": {
      "text/plain": "reviews.title     0\nreviews.text      0\nreviews.rating    0\ndtype: int64"
     },
     "execution_count": 129,
     "metadata": {},
     "output_type": "execute_result"
    }
   ],
   "source": [
    "reviews_df.isna().sum()"
   ],
   "metadata": {
    "collapsed": false,
    "ExecuteTime": {
     "end_time": "2024-02-29T19:21:26.610230Z",
     "start_time": "2024-02-29T19:21:26.564451Z"
    }
   },
   "id": "3cf6dc69a7f361f",
   "execution_count": 129
  },
  {
   "cell_type": "markdown",
   "source": [
    "Look like there are not any null values. So we can now start working on our reviews"
   ],
   "metadata": {
    "collapsed": false
   },
   "id": "7f4cd641f304226a"
  },
  {
   "cell_type": "code",
   "outputs": [
    {
     "data": {
      "text/plain": "reviews.rating\n5.0    23769\n4.0     8540\n3.0     1499\n1.0      410\n2.0      402\nName: count, dtype: int64"
     },
     "execution_count": 130,
     "metadata": {},
     "output_type": "execute_result"
    }
   ],
   "source": [
    "reviews_df[\"reviews.rating\"].value_counts()"
   ],
   "metadata": {
    "collapsed": false,
    "ExecuteTime": {
     "end_time": "2024-02-29T19:21:39.248226Z",
     "start_time": "2024-02-29T19:21:39.144164Z"
    }
   },
   "id": "86340801a53d95d5",
   "execution_count": 130
  },
  {
   "cell_type": "code",
   "outputs": [],
   "source": [
    "# creates tokens of the words in the text\n",
    "def preprocess(text):\n",
    "    doc = nlp(text)\n",
    "    return \" \".join([token.lemma_ for token in doc if not (token.is_stop or token.is_punct or token.is_digit)])"
   ],
   "metadata": {
    "collapsed": false,
    "ExecuteTime": {
     "end_time": "2024-02-29T19:22:14.969Z",
     "start_time": "2024-02-29T19:22:14.882910Z"
    }
   },
   "id": "f1bd251d46eb09db",
   "execution_count": 131
  },
  {
   "cell_type": "markdown",
   "source": [
    "There are around 35 000 records. But it takes too long to process all of them, so let's use only 20 000 of them for now."
   ],
   "metadata": {
    "collapsed": false
   },
   "id": "863c58b9691d26a1"
  },
  {
   "cell_type": "code",
   "outputs": [
    {
     "data": {
      "text/plain": "                             reviews.title  \\\n0                                   Kindle   \n1                                very fast   \n2  Beginner tablet for our 9 year old son.   \n3                                  Good!!!   \n4                Fantastic Tablet for kids   \n5                    Just what we expected   \n6                    great e-reader tablet   \n7                          Great for gifts   \n8                        Great for reading   \n9             Great and lightweight reader   \n\n                                        reviews.text  reviews.rating  \\\n0  This product so far has not disappointed. My c...             5.0   \n1  great for beginner or experienced person. Boug...             5.0   \n2  Inexpensive tablet for him to use and learn on...             5.0   \n3  I've had my Fire HD 8 two weeks now and I love...             4.0   \n4  I bought this for my grand daughter when she c...             5.0   \n5  This amazon fire 8 inch tablet is the perfect ...             5.0   \n6  Great for e-reading on the go, nice and light ...             4.0   \n7  I gave this as a Christmas gift to my inlaws, ...             5.0   \n8  Great as a device to read books. I like that i...             5.0   \n9  I love ordering books and reading them with th...             5.0   \n\n                                     cleaned_reviews  \n0  product far disappoint child love use like abi...  \n1    great beginner experienced person buy gift love  \n2  inexpensive tablet use learn step nabi thrille...  \n3  Fire HD week love tablet great value Prime Mem...  \n4  buy grand daughter come visit set user enter a...  \n5  amazon fire inch tablet perfect size purchase ...  \n6  great e reading nice light weight price point ...  \n7  give Christmas gift inlaw husband uncle love e...  \n8  great device read book like link borrow librar...  \n9                        love order book read reader  ",
      "text/html": "<div>\n<style scoped>\n    .dataframe tbody tr th:only-of-type {\n        vertical-align: middle;\n    }\n\n    .dataframe tbody tr th {\n        vertical-align: top;\n    }\n\n    .dataframe thead th {\n        text-align: right;\n    }\n</style>\n<table border=\"1\" class=\"dataframe\">\n  <thead>\n    <tr style=\"text-align: right;\">\n      <th></th>\n      <th>reviews.title</th>\n      <th>reviews.text</th>\n      <th>reviews.rating</th>\n      <th>cleaned_reviews</th>\n    </tr>\n  </thead>\n  <tbody>\n    <tr>\n      <th>0</th>\n      <td>Kindle</td>\n      <td>This product so far has not disappointed. My c...</td>\n      <td>5.0</td>\n      <td>product far disappoint child love use like abi...</td>\n    </tr>\n    <tr>\n      <th>1</th>\n      <td>very fast</td>\n      <td>great for beginner or experienced person. Boug...</td>\n      <td>5.0</td>\n      <td>great beginner experienced person buy gift love</td>\n    </tr>\n    <tr>\n      <th>2</th>\n      <td>Beginner tablet for our 9 year old son.</td>\n      <td>Inexpensive tablet for him to use and learn on...</td>\n      <td>5.0</td>\n      <td>inexpensive tablet use learn step nabi thrille...</td>\n    </tr>\n    <tr>\n      <th>3</th>\n      <td>Good!!!</td>\n      <td>I've had my Fire HD 8 two weeks now and I love...</td>\n      <td>4.0</td>\n      <td>Fire HD week love tablet great value Prime Mem...</td>\n    </tr>\n    <tr>\n      <th>4</th>\n      <td>Fantastic Tablet for kids</td>\n      <td>I bought this for my grand daughter when she c...</td>\n      <td>5.0</td>\n      <td>buy grand daughter come visit set user enter a...</td>\n    </tr>\n    <tr>\n      <th>5</th>\n      <td>Just what we expected</td>\n      <td>This amazon fire 8 inch tablet is the perfect ...</td>\n      <td>5.0</td>\n      <td>amazon fire inch tablet perfect size purchase ...</td>\n    </tr>\n    <tr>\n      <th>6</th>\n      <td>great e-reader tablet</td>\n      <td>Great for e-reading on the go, nice and light ...</td>\n      <td>4.0</td>\n      <td>great e reading nice light weight price point ...</td>\n    </tr>\n    <tr>\n      <th>7</th>\n      <td>Great for gifts</td>\n      <td>I gave this as a Christmas gift to my inlaws, ...</td>\n      <td>5.0</td>\n      <td>give Christmas gift inlaw husband uncle love e...</td>\n    </tr>\n    <tr>\n      <th>8</th>\n      <td>Great for reading</td>\n      <td>Great as a device to read books. I like that i...</td>\n      <td>5.0</td>\n      <td>great device read book like link borrow librar...</td>\n    </tr>\n    <tr>\n      <th>9</th>\n      <td>Great and lightweight reader</td>\n      <td>I love ordering books and reading them with th...</td>\n      <td>5.0</td>\n      <td>love order book read reader</td>\n    </tr>\n  </tbody>\n</table>\n</div>"
     },
     "execution_count": 132,
     "metadata": {},
     "output_type": "execute_result"
    }
   ],
   "source": [
    "reviews_df = reviews_df.iloc[:20000, :]\n",
    "\n",
    "reviews_df[\"cleaned_reviews\"] = reviews_df[\"reviews.text\"].apply(preprocess)\n",
    "reviews_df.head(10)"
   ],
   "metadata": {
    "collapsed": false,
    "ExecuteTime": {
     "end_time": "2024-02-29T19:26:07.350498Z",
     "start_time": "2024-02-29T19:22:19.840141Z"
    }
   },
   "id": "c8b9a232de02675c",
   "execution_count": 132
  },
  {
   "cell_type": "code",
   "outputs": [],
   "source": [
    "if 'spacytextblob' not in nlp.pipe_names:\n",
    "    nlp.add_pipe('spacytextblob')\n",
    "\n",
    "\n",
    "# calculates sentiment score\n",
    "# 1 >= positive >= 0.5; \n",
    "# 0.5 > neutral > -0.5; \n",
    "# -0.5 >= negative >= negative\n",
    "def get_sentiment(review):\n",
    "    doc = nlp(review)\n",
    "\n",
    "    if doc._.blob.polarity >= 0.5:\n",
    "        return \"positive\"\n",
    "    elif 0.5 > doc._.blob.polarity > -0.5:\n",
    "        return \"neutral\"\n",
    "    else:\n",
    "        return \"negative\""
   ],
   "metadata": {
    "collapsed": false,
    "ExecuteTime": {
     "end_time": "2024-02-29T19:26:59.437716Z",
     "start_time": "2024-02-29T19:26:59.389417Z"
    }
   },
   "id": "864011a8d8859ab5",
   "execution_count": 133
  },
  {
   "cell_type": "code",
   "outputs": [
    {
     "data": {
      "text/plain": "                             reviews.title  \\\n0                                   Kindle   \n1                                very fast   \n2  Beginner tablet for our 9 year old son.   \n3                                  Good!!!   \n4                Fantastic Tablet for kids   \n5                    Just what we expected   \n6                    great e-reader tablet   \n7                          Great for gifts   \n8                        Great for reading   \n9             Great and lightweight reader   \n\n                                        reviews.text  reviews.rating  \\\n0  This product so far has not disappointed. My c...             5.0   \n1  great for beginner or experienced person. Boug...             5.0   \n2  Inexpensive tablet for him to use and learn on...             5.0   \n3  I've had my Fire HD 8 two weeks now and I love...             4.0   \n4  I bought this for my grand daughter when she c...             5.0   \n5  This amazon fire 8 inch tablet is the perfect ...             5.0   \n6  Great for e-reading on the go, nice and light ...             4.0   \n7  I gave this as a Christmas gift to my inlaws, ...             5.0   \n8  Great as a device to read books. I like that i...             5.0   \n9  I love ordering books and reading them with th...             5.0   \n\n                                     cleaned_reviews sentiment  \n0  product far disappoint child love use like abi...   neutral  \n1    great beginner experienced person buy gift love  positive  \n2  inexpensive tablet use learn step nabi thrille...  positive  \n3  Fire HD week love tablet great value Prime Mem...   neutral  \n4  buy grand daughter come visit set user enter a...   neutral  \n5  amazon fire inch tablet perfect size purchase ...  positive  \n6  great e reading nice light weight price point ...  positive  \n7  give Christmas gift inlaw husband uncle love e...   neutral  \n8  great device read book like link borrow librar...   neutral  \n9                        love order book read reader  positive  ",
      "text/html": "<div>\n<style scoped>\n    .dataframe tbody tr th:only-of-type {\n        vertical-align: middle;\n    }\n\n    .dataframe tbody tr th {\n        vertical-align: top;\n    }\n\n    .dataframe thead th {\n        text-align: right;\n    }\n</style>\n<table border=\"1\" class=\"dataframe\">\n  <thead>\n    <tr style=\"text-align: right;\">\n      <th></th>\n      <th>reviews.title</th>\n      <th>reviews.text</th>\n      <th>reviews.rating</th>\n      <th>cleaned_reviews</th>\n      <th>sentiment</th>\n    </tr>\n  </thead>\n  <tbody>\n    <tr>\n      <th>0</th>\n      <td>Kindle</td>\n      <td>This product so far has not disappointed. My c...</td>\n      <td>5.0</td>\n      <td>product far disappoint child love use like abi...</td>\n      <td>neutral</td>\n    </tr>\n    <tr>\n      <th>1</th>\n      <td>very fast</td>\n      <td>great for beginner or experienced person. Boug...</td>\n      <td>5.0</td>\n      <td>great beginner experienced person buy gift love</td>\n      <td>positive</td>\n    </tr>\n    <tr>\n      <th>2</th>\n      <td>Beginner tablet for our 9 year old son.</td>\n      <td>Inexpensive tablet for him to use and learn on...</td>\n      <td>5.0</td>\n      <td>inexpensive tablet use learn step nabi thrille...</td>\n      <td>positive</td>\n    </tr>\n    <tr>\n      <th>3</th>\n      <td>Good!!!</td>\n      <td>I've had my Fire HD 8 two weeks now and I love...</td>\n      <td>4.0</td>\n      <td>Fire HD week love tablet great value Prime Mem...</td>\n      <td>neutral</td>\n    </tr>\n    <tr>\n      <th>4</th>\n      <td>Fantastic Tablet for kids</td>\n      <td>I bought this for my grand daughter when she c...</td>\n      <td>5.0</td>\n      <td>buy grand daughter come visit set user enter a...</td>\n      <td>neutral</td>\n    </tr>\n    <tr>\n      <th>5</th>\n      <td>Just what we expected</td>\n      <td>This amazon fire 8 inch tablet is the perfect ...</td>\n      <td>5.0</td>\n      <td>amazon fire inch tablet perfect size purchase ...</td>\n      <td>positive</td>\n    </tr>\n    <tr>\n      <th>6</th>\n      <td>great e-reader tablet</td>\n      <td>Great for e-reading on the go, nice and light ...</td>\n      <td>4.0</td>\n      <td>great e reading nice light weight price point ...</td>\n      <td>positive</td>\n    </tr>\n    <tr>\n      <th>7</th>\n      <td>Great for gifts</td>\n      <td>I gave this as a Christmas gift to my inlaws, ...</td>\n      <td>5.0</td>\n      <td>give Christmas gift inlaw husband uncle love e...</td>\n      <td>neutral</td>\n    </tr>\n    <tr>\n      <th>8</th>\n      <td>Great for reading</td>\n      <td>Great as a device to read books. I like that i...</td>\n      <td>5.0</td>\n      <td>great device read book like link borrow librar...</td>\n      <td>neutral</td>\n    </tr>\n    <tr>\n      <th>9</th>\n      <td>Great and lightweight reader</td>\n      <td>I love ordering books and reading them with th...</td>\n      <td>5.0</td>\n      <td>love order book read reader</td>\n      <td>positive</td>\n    </tr>\n  </tbody>\n</table>\n</div>"
     },
     "execution_count": 134,
     "metadata": {},
     "output_type": "execute_result"
    }
   ],
   "source": [
    "reviews_df[\"sentiment\"] = reviews_df[\"cleaned_reviews\"].apply(get_sentiment)\n",
    "reviews_df.head(10)"
   ],
   "metadata": {
    "collapsed": false,
    "ExecuteTime": {
     "end_time": "2024-02-29T19:29:44.004160Z",
     "start_time": "2024-02-29T19:27:01.550622Z"
    }
   },
   "id": "770296d84ee6806c",
   "execution_count": 134
  },
  {
   "cell_type": "markdown",
   "source": [
    "So we can see some of the sentiments are neutral, while the rating of these reviews are 5 or 4. This means our sentiment function is not working well. Let's try to develop actual sentiment model."
   ],
   "metadata": {
    "collapsed": false
   },
   "id": "d06d436431bcdcd9"
  },
  {
   "cell_type": "markdown",
   "source": [
    "### Labelling ###\n",
    "\n",
    "Let's label them first depending on reviews.rating score. "
   ],
   "metadata": {
    "collapsed": false
   },
   "id": "a761d826a8754a9d"
  },
  {
   "cell_type": "code",
   "outputs": [
    {
     "data": {
      "text/plain": "reviews.rating\n5.0    12899\n4.0     5542\n3.0     1016\n2.0      274\n1.0      269\nName: count, dtype: int64"
     },
     "execution_count": 135,
     "metadata": {},
     "output_type": "execute_result"
    }
   ],
   "source": [
    "reviews_df[\"reviews.rating\"].value_counts()"
   ],
   "metadata": {
    "collapsed": false,
    "ExecuteTime": {
     "end_time": "2024-02-29T19:30:13.187048Z",
     "start_time": "2024-02-29T19:30:13.129887Z"
    }
   },
   "id": "12f5e9111a6a5f97",
   "execution_count": 135
  },
  {
   "cell_type": "markdown",
   "source": [
    "Let's label 5 and 4 as a positive, 3 as a neutral and 1, 2 as a negative"
   ],
   "metadata": {
    "collapsed": false
   },
   "id": "9c4fa5c5f30babfa"
  },
  {
   "cell_type": "code",
   "outputs": [],
   "source": [
    "def label_reviews(rating):\n",
    "    if rating == 5 or rating == 4:\n",
    "        return \"positive\"\n",
    "    elif rating == 2 or rating == 1:\n",
    "        return \"negative\"\n",
    "    else:\n",
    "        return \"neutral\""
   ],
   "metadata": {
    "collapsed": false,
    "ExecuteTime": {
     "end_time": "2024-02-29T19:30:20.488096Z",
     "start_time": "2024-02-29T19:30:20.466721Z"
    }
   },
   "id": "794a5dd348b4b631",
   "execution_count": 136
  },
  {
   "cell_type": "code",
   "outputs": [],
   "source": [
    "reviews_df[\"category\"] = reviews_df[\"reviews.rating\"].apply(label_reviews)\n",
    "reviews_df[\"category\"].value_counts()"
   ],
   "metadata": {
    "collapsed": false
   },
   "id": "11cb2bd6940de6de",
   "execution_count": null
  },
  {
   "cell_type": "code",
   "outputs": [
    {
     "data": {
      "text/plain": "                                        reviews.title  \\\n8803      Excellent entertainment tablet for beginner   \n19632                                    great reader   \n11483                   Tablet is great for my needs.   \n8859             mother has a hard time understanding   \n1990   great tablet for the price and easy to operate   \n1117                               Amazon is the best   \n15889                                            Nice   \n8522               Works as it should. Happy with it.   \n13735                Great tablet for even a beginner   \n8187                               Pretty Blue Kindle   \n\n                                            reviews.text  reviews.rating  \\\n8803   Within the low price range, this tablet is exc...             5.0   \n19632  I have an older Kindle. I usually read without...             5.0   \n11483  Enjoy my tablet. Easy to carry in purse. It wa...             5.0   \n8859   Bought it for my mom so we can stay in touch a...             3.0   \n1990   this is a great tablet for under $100 and you ...             5.0   \n1117   This tablet exceeds its reviews. its easy to u...             5.0   \n15889  It's a lovely game for kids wolf my daughter h...             5.0   \n8522   It works great as advertised. I bought a Micro...             5.0   \n13735  Got as a Christmas gift for my aunt and she lo...             5.0   \n8187   I purchased 3 of these Kindle's for my grandch...             5.0   \n\n                                         cleaned_reviews sentiment  category  \n8803   low price range tablet excellent watch tv movi...   neutral  positive  \n19632  old Kindle usually read lighting like have opt...   neutral  positive  \n11483  enjoy tablet easy carry purse great buy love read  positive  positive  \n8859   buy mom stay touch play crossword game Bingo N...   neutral   neutral  \n1990   great tablet $ add kodi s good feature duel si...  positive  positive  \n1117          tablet exceed review easy use screen great  positive  positive  \n15889                 lovely game kid wolf daughter love   neutral  positive  \n8522   work great advertise buy Micro SD card upgrade...  positive  positive  \n13735  got Christmas gift aunt love highly recommend ...   neutral  positive  \n8187   purchase Kindle grandchild husband Christmas l...  positive  positive  ",
      "text/html": "<div>\n<style scoped>\n    .dataframe tbody tr th:only-of-type {\n        vertical-align: middle;\n    }\n\n    .dataframe tbody tr th {\n        vertical-align: top;\n    }\n\n    .dataframe thead th {\n        text-align: right;\n    }\n</style>\n<table border=\"1\" class=\"dataframe\">\n  <thead>\n    <tr style=\"text-align: right;\">\n      <th></th>\n      <th>reviews.title</th>\n      <th>reviews.text</th>\n      <th>reviews.rating</th>\n      <th>cleaned_reviews</th>\n      <th>sentiment</th>\n      <th>category</th>\n    </tr>\n  </thead>\n  <tbody>\n    <tr>\n      <th>8803</th>\n      <td>Excellent entertainment tablet for beginner</td>\n      <td>Within the low price range, this tablet is exc...</td>\n      <td>5.0</td>\n      <td>low price range tablet excellent watch tv movi...</td>\n      <td>neutral</td>\n      <td>positive</td>\n    </tr>\n    <tr>\n      <th>19632</th>\n      <td>great reader</td>\n      <td>I have an older Kindle. I usually read without...</td>\n      <td>5.0</td>\n      <td>old Kindle usually read lighting like have opt...</td>\n      <td>neutral</td>\n      <td>positive</td>\n    </tr>\n    <tr>\n      <th>11483</th>\n      <td>Tablet is great for my needs.</td>\n      <td>Enjoy my tablet. Easy to carry in purse. It wa...</td>\n      <td>5.0</td>\n      <td>enjoy tablet easy carry purse great buy love read</td>\n      <td>positive</td>\n      <td>positive</td>\n    </tr>\n    <tr>\n      <th>8859</th>\n      <td>mother has a hard time understanding</td>\n      <td>Bought it for my mom so we can stay in touch a...</td>\n      <td>3.0</td>\n      <td>buy mom stay touch play crossword game Bingo N...</td>\n      <td>neutral</td>\n      <td>neutral</td>\n    </tr>\n    <tr>\n      <th>1990</th>\n      <td>great tablet for the price and easy to operate</td>\n      <td>this is a great tablet for under $100 and you ...</td>\n      <td>5.0</td>\n      <td>great tablet $ add kodi s good feature duel si...</td>\n      <td>positive</td>\n      <td>positive</td>\n    </tr>\n    <tr>\n      <th>1117</th>\n      <td>Amazon is the best</td>\n      <td>This tablet exceeds its reviews. its easy to u...</td>\n      <td>5.0</td>\n      <td>tablet exceed review easy use screen great</td>\n      <td>positive</td>\n      <td>positive</td>\n    </tr>\n    <tr>\n      <th>15889</th>\n      <td>Nice</td>\n      <td>It's a lovely game for kids wolf my daughter h...</td>\n      <td>5.0</td>\n      <td>lovely game kid wolf daughter love</td>\n      <td>neutral</td>\n      <td>positive</td>\n    </tr>\n    <tr>\n      <th>8522</th>\n      <td>Works as it should. Happy with it.</td>\n      <td>It works great as advertised. I bought a Micro...</td>\n      <td>5.0</td>\n      <td>work great advertise buy Micro SD card upgrade...</td>\n      <td>positive</td>\n      <td>positive</td>\n    </tr>\n    <tr>\n      <th>13735</th>\n      <td>Great tablet for even a beginner</td>\n      <td>Got as a Christmas gift for my aunt and she lo...</td>\n      <td>5.0</td>\n      <td>got Christmas gift aunt love highly recommend ...</td>\n      <td>neutral</td>\n      <td>positive</td>\n    </tr>\n    <tr>\n      <th>8187</th>\n      <td>Pretty Blue Kindle</td>\n      <td>I purchased 3 of these Kindle's for my grandch...</td>\n      <td>5.0</td>\n      <td>purchase Kindle grandchild husband Christmas l...</td>\n      <td>positive</td>\n      <td>positive</td>\n    </tr>\n  </tbody>\n</table>\n</div>"
     },
     "execution_count": 138,
     "metadata": {},
     "output_type": "execute_result"
    }
   ],
   "source": [
    "reviews_df.sample(10)"
   ],
   "metadata": {
    "collapsed": false,
    "ExecuteTime": {
     "end_time": "2024-02-29T19:30:33.410130Z",
     "start_time": "2024-02-29T19:30:33.353506Z"
    }
   },
   "id": "5ae40048acd92889",
   "execution_count": 138
  },
  {
   "cell_type": "markdown",
   "source": [
    "Now we remove all unnecessary columns"
   ],
   "metadata": {
    "collapsed": false
   },
   "id": "b07d820481fcbc5"
  },
  {
   "cell_type": "code",
   "outputs": [],
   "source": [
    "columns = [\"reviews.title\", \"reviews.text\", \"reviews.rating\", \"sentiment\"]\n",
    "\n",
    "reviews_df[\"text.length\"] = reviews_df[\"cleaned_reviews\"].apply(len)\n",
    "\n",
    "reviews_df = reviews_df.drop(columns=columns)"
   ],
   "metadata": {
    "collapsed": false,
    "ExecuteTime": {
     "end_time": "2024-02-29T19:30:39.743090Z",
     "start_time": "2024-02-29T19:30:39.697637Z"
    }
   },
   "id": "43b73a2f95fac8c1",
   "execution_count": 139
  },
  {
   "cell_type": "code",
   "outputs": [
    {
     "data": {
      "text/plain": "                                         cleaned_reviews  category  \\\n8341   person buy love tablet actually expensive load...  positive   \n8771                   get jib make good tablet kid play   neutral   \n16291  4yr old able operate flawlessly include case w...   neutral   \n4869   let honest think satisfied $ tablet think good...  positive   \n12556  ease touch screen make easy use arthritis old ...  positive   \n7329                  buy yr old not lot educational app  positive   \n6506                        kid love new tablet Easy use  positive   \n18667                       product light make easy read  positive   \n17055  slow performance application freeze work charg...   neutral   \n471    Fire HD8 strike excellent balance performance ...  positive   \n\n       text.length  \n8341            50  \n8771            33  \n16291           86  \n4869           377  \n12556           58  \n7329            34  \n6506            28  \n18667           28  \n17055           64  \n471            125  ",
      "text/html": "<div>\n<style scoped>\n    .dataframe tbody tr th:only-of-type {\n        vertical-align: middle;\n    }\n\n    .dataframe tbody tr th {\n        vertical-align: top;\n    }\n\n    .dataframe thead th {\n        text-align: right;\n    }\n</style>\n<table border=\"1\" class=\"dataframe\">\n  <thead>\n    <tr style=\"text-align: right;\">\n      <th></th>\n      <th>cleaned_reviews</th>\n      <th>category</th>\n      <th>text.length</th>\n    </tr>\n  </thead>\n  <tbody>\n    <tr>\n      <th>8341</th>\n      <td>person buy love tablet actually expensive load...</td>\n      <td>positive</td>\n      <td>50</td>\n    </tr>\n    <tr>\n      <th>8771</th>\n      <td>get jib make good tablet kid play</td>\n      <td>neutral</td>\n      <td>33</td>\n    </tr>\n    <tr>\n      <th>16291</th>\n      <td>4yr old able operate flawlessly include case w...</td>\n      <td>neutral</td>\n      <td>86</td>\n    </tr>\n    <tr>\n      <th>4869</th>\n      <td>let honest think satisfied $ tablet think good...</td>\n      <td>positive</td>\n      <td>377</td>\n    </tr>\n    <tr>\n      <th>12556</th>\n      <td>ease touch screen make easy use arthritis old ...</td>\n      <td>positive</td>\n      <td>58</td>\n    </tr>\n    <tr>\n      <th>7329</th>\n      <td>buy yr old not lot educational app</td>\n      <td>positive</td>\n      <td>34</td>\n    </tr>\n    <tr>\n      <th>6506</th>\n      <td>kid love new tablet Easy use</td>\n      <td>positive</td>\n      <td>28</td>\n    </tr>\n    <tr>\n      <th>18667</th>\n      <td>product light make easy read</td>\n      <td>positive</td>\n      <td>28</td>\n    </tr>\n    <tr>\n      <th>17055</th>\n      <td>slow performance application freeze work charg...</td>\n      <td>neutral</td>\n      <td>64</td>\n    </tr>\n    <tr>\n      <th>471</th>\n      <td>Fire HD8 strike excellent balance performance ...</td>\n      <td>positive</td>\n      <td>125</td>\n    </tr>\n  </tbody>\n</table>\n</div>"
     },
     "execution_count": 142,
     "metadata": {},
     "output_type": "execute_result"
    }
   ],
   "source": [
    "reviews_df.sample(10)"
   ],
   "metadata": {
    "collapsed": false,
    "ExecuteTime": {
     "end_time": "2024-02-29T19:32:09.180457Z",
     "start_time": "2024-02-29T19:32:09.116782Z"
    }
   },
   "id": "302803cd23c70288",
   "execution_count": 142
  },
  {
   "cell_type": "markdown",
   "source": [
    "### Vectorization ###"
   ],
   "metadata": {
    "collapsed": false
   },
   "id": "8724908a5acdb267"
  },
  {
   "cell_type": "code",
   "outputs": [],
   "source": [
    "# creates vector form of the each word\n",
    "def get_doc_embedding(review):\n",
    "    doc = nlp(review)\n",
    "\n",
    "    return doc.vector"
   ],
   "metadata": {
    "collapsed": false,
    "ExecuteTime": {
     "end_time": "2024-02-29T19:32:24.939335Z",
     "start_time": "2024-02-29T19:32:24.858563Z"
    }
   },
   "id": "8e1c118282bbafc3",
   "execution_count": 143
  },
  {
   "cell_type": "code",
   "outputs": [
    {
     "data": {
      "text/plain": "                                     cleaned_reviews  category  text.length  \\\n0  product far disappoint child love use like abi...  positive           79   \n1    great beginner experienced person buy gift love  positive           47   \n2  inexpensive tablet use learn step nabi thrille...  positive           59   \n3  Fire HD week love tablet great value Prime Mem...  positive          323   \n4  buy grand daughter come visit set user enter a...  positive          298   \n5  amazon fire inch tablet perfect size purchase ...  positive          102   \n6  great e reading nice light weight price point ...  positive           76   \n7  give Christmas gift inlaw husband uncle love e...  positive           71   \n8  great device read book like link borrow librar...  positive          156   \n9                        love order book read reader  positive           27   \n\n                                       review_vector  \n0  [0.054878335, 0.9984474, -2.654489, 0.04398834...  \n1  [-1.6740358, -2.1884587, -3.7127316, -2.619348...  \n2  [0.25868428, 0.8893498, 0.018769953, -1.333110...  \n3  [-0.4144448, 0.7188587, -3.3641176, 0.7249728,...  \n4  [-0.34229454, 0.8031177, -2.1945102, 0.0453326...  \n5  [-0.9132935, 0.7910495, -3.6267226, 0.1875006,...  \n6  [0.46890584, 1.4473648, -1.7725244, 0.26782247...  \n7  [-1.2324872, -0.9387156, -2.9495156, -2.058727...  \n8  [-0.4652737, 0.4427889, -0.013706501, -1.27728...  \n9  [1.6236715, -1.42432, -0.48016006, -2.65908, 0...  ",
      "text/html": "<div>\n<style scoped>\n    .dataframe tbody tr th:only-of-type {\n        vertical-align: middle;\n    }\n\n    .dataframe tbody tr th {\n        vertical-align: top;\n    }\n\n    .dataframe thead th {\n        text-align: right;\n    }\n</style>\n<table border=\"1\" class=\"dataframe\">\n  <thead>\n    <tr style=\"text-align: right;\">\n      <th></th>\n      <th>cleaned_reviews</th>\n      <th>category</th>\n      <th>text.length</th>\n      <th>review_vector</th>\n    </tr>\n  </thead>\n  <tbody>\n    <tr>\n      <th>0</th>\n      <td>product far disappoint child love use like abi...</td>\n      <td>positive</td>\n      <td>79</td>\n      <td>[0.054878335, 0.9984474, -2.654489, 0.04398834...</td>\n    </tr>\n    <tr>\n      <th>1</th>\n      <td>great beginner experienced person buy gift love</td>\n      <td>positive</td>\n      <td>47</td>\n      <td>[-1.6740358, -2.1884587, -3.7127316, -2.619348...</td>\n    </tr>\n    <tr>\n      <th>2</th>\n      <td>inexpensive tablet use learn step nabi thrille...</td>\n      <td>positive</td>\n      <td>59</td>\n      <td>[0.25868428, 0.8893498, 0.018769953, -1.333110...</td>\n    </tr>\n    <tr>\n      <th>3</th>\n      <td>Fire HD week love tablet great value Prime Mem...</td>\n      <td>positive</td>\n      <td>323</td>\n      <td>[-0.4144448, 0.7188587, -3.3641176, 0.7249728,...</td>\n    </tr>\n    <tr>\n      <th>4</th>\n      <td>buy grand daughter come visit set user enter a...</td>\n      <td>positive</td>\n      <td>298</td>\n      <td>[-0.34229454, 0.8031177, -2.1945102, 0.0453326...</td>\n    </tr>\n    <tr>\n      <th>5</th>\n      <td>amazon fire inch tablet perfect size purchase ...</td>\n      <td>positive</td>\n      <td>102</td>\n      <td>[-0.9132935, 0.7910495, -3.6267226, 0.1875006,...</td>\n    </tr>\n    <tr>\n      <th>6</th>\n      <td>great e reading nice light weight price point ...</td>\n      <td>positive</td>\n      <td>76</td>\n      <td>[0.46890584, 1.4473648, -1.7725244, 0.26782247...</td>\n    </tr>\n    <tr>\n      <th>7</th>\n      <td>give Christmas gift inlaw husband uncle love e...</td>\n      <td>positive</td>\n      <td>71</td>\n      <td>[-1.2324872, -0.9387156, -2.9495156, -2.058727...</td>\n    </tr>\n    <tr>\n      <th>8</th>\n      <td>great device read book like link borrow librar...</td>\n      <td>positive</td>\n      <td>156</td>\n      <td>[-0.4652737, 0.4427889, -0.013706501, -1.27728...</td>\n    </tr>\n    <tr>\n      <th>9</th>\n      <td>love order book read reader</td>\n      <td>positive</td>\n      <td>27</td>\n      <td>[1.6236715, -1.42432, -0.48016006, -2.65908, 0...</td>\n    </tr>\n  </tbody>\n</table>\n</div>"
     },
     "execution_count": 144,
     "metadata": {},
     "output_type": "execute_result"
    }
   ],
   "source": [
    "reviews_df[\"review_vector\"] = reviews_df[\"cleaned_reviews\"].apply(get_doc_embedding)\n",
    "reviews_df.head(10)"
   ],
   "metadata": {
    "collapsed": false,
    "ExecuteTime": {
     "end_time": "2024-02-29T19:35:20.015773Z",
     "start_time": "2024-02-29T19:32:28.031478Z"
    }
   },
   "id": "d2414a272f3a0f77",
   "execution_count": 144
  },
  {
   "cell_type": "markdown",
   "source": [
    "### Encoding category ###"
   ],
   "metadata": {
    "collapsed": false
   },
   "id": "cbc16df9fe97458c"
  },
  {
   "cell_type": "code",
   "outputs": [
    {
     "data": {
      "text/plain": "                                     cleaned_reviews  category  text.length  \\\n0  product far disappoint child love use like abi...         2           79   \n1    great beginner experienced person buy gift love         2           47   \n2  inexpensive tablet use learn step nabi thrille...         2           59   \n3  Fire HD week love tablet great value Prime Mem...         2          323   \n4  buy grand daughter come visit set user enter a...         2          298   \n5  amazon fire inch tablet perfect size purchase ...         2          102   \n6  great e reading nice light weight price point ...         2           76   \n7  give Christmas gift inlaw husband uncle love e...         2           71   \n8  great device read book like link borrow librar...         2          156   \n9                        love order book read reader         2           27   \n\n                                       review_vector  \n0  [0.054878335, 0.9984474, -2.654489, 0.04398834...  \n1  [-1.6740358, -2.1884587, -3.7127316, -2.619348...  \n2  [0.25868428, 0.8893498, 0.018769953, -1.333110...  \n3  [-0.4144448, 0.7188587, -3.3641176, 0.7249728,...  \n4  [-0.34229454, 0.8031177, -2.1945102, 0.0453326...  \n5  [-0.9132935, 0.7910495, -3.6267226, 0.1875006,...  \n6  [0.46890584, 1.4473648, -1.7725244, 0.26782247...  \n7  [-1.2324872, -0.9387156, -2.9495156, -2.058727...  \n8  [-0.4652737, 0.4427889, -0.013706501, -1.27728...  \n9  [1.6236715, -1.42432, -0.48016006, -2.65908, 0...  ",
      "text/html": "<div>\n<style scoped>\n    .dataframe tbody tr th:only-of-type {\n        vertical-align: middle;\n    }\n\n    .dataframe tbody tr th {\n        vertical-align: top;\n    }\n\n    .dataframe thead th {\n        text-align: right;\n    }\n</style>\n<table border=\"1\" class=\"dataframe\">\n  <thead>\n    <tr style=\"text-align: right;\">\n      <th></th>\n      <th>cleaned_reviews</th>\n      <th>category</th>\n      <th>text.length</th>\n      <th>review_vector</th>\n    </tr>\n  </thead>\n  <tbody>\n    <tr>\n      <th>0</th>\n      <td>product far disappoint child love use like abi...</td>\n      <td>2</td>\n      <td>79</td>\n      <td>[0.054878335, 0.9984474, -2.654489, 0.04398834...</td>\n    </tr>\n    <tr>\n      <th>1</th>\n      <td>great beginner experienced person buy gift love</td>\n      <td>2</td>\n      <td>47</td>\n      <td>[-1.6740358, -2.1884587, -3.7127316, -2.619348...</td>\n    </tr>\n    <tr>\n      <th>2</th>\n      <td>inexpensive tablet use learn step nabi thrille...</td>\n      <td>2</td>\n      <td>59</td>\n      <td>[0.25868428, 0.8893498, 0.018769953, -1.333110...</td>\n    </tr>\n    <tr>\n      <th>3</th>\n      <td>Fire HD week love tablet great value Prime Mem...</td>\n      <td>2</td>\n      <td>323</td>\n      <td>[-0.4144448, 0.7188587, -3.3641176, 0.7249728,...</td>\n    </tr>\n    <tr>\n      <th>4</th>\n      <td>buy grand daughter come visit set user enter a...</td>\n      <td>2</td>\n      <td>298</td>\n      <td>[-0.34229454, 0.8031177, -2.1945102, 0.0453326...</td>\n    </tr>\n    <tr>\n      <th>5</th>\n      <td>amazon fire inch tablet perfect size purchase ...</td>\n      <td>2</td>\n      <td>102</td>\n      <td>[-0.9132935, 0.7910495, -3.6267226, 0.1875006,...</td>\n    </tr>\n    <tr>\n      <th>6</th>\n      <td>great e reading nice light weight price point ...</td>\n      <td>2</td>\n      <td>76</td>\n      <td>[0.46890584, 1.4473648, -1.7725244, 0.26782247...</td>\n    </tr>\n    <tr>\n      <th>7</th>\n      <td>give Christmas gift inlaw husband uncle love e...</td>\n      <td>2</td>\n      <td>71</td>\n      <td>[-1.2324872, -0.9387156, -2.9495156, -2.058727...</td>\n    </tr>\n    <tr>\n      <th>8</th>\n      <td>great device read book like link borrow librar...</td>\n      <td>2</td>\n      <td>156</td>\n      <td>[-0.4652737, 0.4427889, -0.013706501, -1.27728...</td>\n    </tr>\n    <tr>\n      <th>9</th>\n      <td>love order book read reader</td>\n      <td>2</td>\n      <td>27</td>\n      <td>[1.6236715, -1.42432, -0.48016006, -2.65908, 0...</td>\n    </tr>\n  </tbody>\n</table>\n</div>"
     },
     "execution_count": 145,
     "metadata": {},
     "output_type": "execute_result"
    }
   ],
   "source": [
    "label_encoder = LabelEncoder()\n",
    "\n",
    "reviews_df[\"category\"] = label_encoder.fit_transform(reviews_df[\"category\"])\n",
    "\n",
    "reviews_df.head(10)"
   ],
   "metadata": {
    "collapsed": false,
    "ExecuteTime": {
     "end_time": "2024-02-29T19:36:01.936103Z",
     "start_time": "2024-02-29T19:36:01.821678Z"
    }
   },
   "id": "7ec3539940aae14c",
   "execution_count": 145
  },
  {
   "cell_type": "markdown",
   "source": [
    "### Positive - 2, Neutral - 1, Negative - 0"
   ],
   "metadata": {
    "collapsed": false
   },
   "id": "6fd9d0f3a5a7a9cc"
  },
  {
   "cell_type": "code",
   "outputs": [
    {
     "data": {
      "text/plain": "category\n2    18441\n1     1016\n0      543\nName: count, dtype: int64"
     },
     "execution_count": 146,
     "metadata": {},
     "output_type": "execute_result"
    }
   ],
   "source": [
    "reviews_df.category.value_counts()"
   ],
   "metadata": {
    "collapsed": false,
    "ExecuteTime": {
     "end_time": "2024-02-29T19:37:01.247662Z",
     "start_time": "2024-02-29T19:37:01.201154Z"
    }
   },
   "id": "dcc87717753068b7",
   "execution_count": 146
  },
  {
   "cell_type": "markdown",
   "source": [
    "### Dividing data into features and target ###"
   ],
   "metadata": {
    "collapsed": false
   },
   "id": "c73ad20b76e41622"
  },
  {
   "cell_type": "markdown",
   "source": [
    "Now we create a new column for each vector and we use each new column as a feature "
   ],
   "metadata": {
    "collapsed": false
   },
   "id": "f32bf95b9f302b47"
  },
  {
   "cell_type": "code",
   "outputs": [
    {
     "data": {
      "text/plain": "          0         1         2         3         4         5         6  \\\n0  0.054878  0.998447 -2.654489  0.043988  2.220023 -0.072042  1.390376   \n1 -1.674036 -2.188459 -3.712732 -2.619349  0.784464  1.016893  2.367308   \n2  0.258684  0.889350  0.018770 -1.333110 -0.239798  0.465441 -0.532787   \n3 -0.414445  0.718859 -3.364118  0.724973  0.580903 -0.592890  1.794042   \n4 -0.342295  0.803118 -2.194510  0.045333  0.846540  0.829211  1.369973   \n\n          7         8         9  ...       291       292       293       294  \\\n0  4.340241 -4.549300 -0.295129  ... -1.665380 -0.018139 -0.921403 -0.713987   \n1  2.183128 -3.867471  0.586361  ...  0.047751 -1.164008 -1.376394 -1.457477   \n2  0.961081 -5.122130  1.366601  ... -1.651458 -0.186464 -0.560807  0.716641   \n3  2.928200 -2.725754 -0.378467  ...  0.317549  0.467490  0.011022 -0.338227   \n4  3.669507 -2.771239  0.938031  ... -0.270222 -0.022945  0.273825 -0.753031   \n\n        295       296       297       298       299  text.length  \n0 -0.783628  0.769324 -1.002197 -3.416529  1.606364           79  \n1 -2.384837 -0.789657  2.432463 -3.593261 -0.431753           47  \n2 -2.783326  0.204651 -0.127211 -2.425972 -0.817969           59  \n3  0.736255  0.871529 -1.055821 -1.718852  0.495873          323  \n4 -0.090764 -0.530125 -0.000917 -2.362792  0.634489          298  \n\n[5 rows x 301 columns]",
      "text/html": "<div>\n<style scoped>\n    .dataframe tbody tr th:only-of-type {\n        vertical-align: middle;\n    }\n\n    .dataframe tbody tr th {\n        vertical-align: top;\n    }\n\n    .dataframe thead th {\n        text-align: right;\n    }\n</style>\n<table border=\"1\" class=\"dataframe\">\n  <thead>\n    <tr style=\"text-align: right;\">\n      <th></th>\n      <th>0</th>\n      <th>1</th>\n      <th>2</th>\n      <th>3</th>\n      <th>4</th>\n      <th>5</th>\n      <th>6</th>\n      <th>7</th>\n      <th>8</th>\n      <th>9</th>\n      <th>...</th>\n      <th>291</th>\n      <th>292</th>\n      <th>293</th>\n      <th>294</th>\n      <th>295</th>\n      <th>296</th>\n      <th>297</th>\n      <th>298</th>\n      <th>299</th>\n      <th>text.length</th>\n    </tr>\n  </thead>\n  <tbody>\n    <tr>\n      <th>0</th>\n      <td>0.054878</td>\n      <td>0.998447</td>\n      <td>-2.654489</td>\n      <td>0.043988</td>\n      <td>2.220023</td>\n      <td>-0.072042</td>\n      <td>1.390376</td>\n      <td>4.340241</td>\n      <td>-4.549300</td>\n      <td>-0.295129</td>\n      <td>...</td>\n      <td>-1.665380</td>\n      <td>-0.018139</td>\n      <td>-0.921403</td>\n      <td>-0.713987</td>\n      <td>-0.783628</td>\n      <td>0.769324</td>\n      <td>-1.002197</td>\n      <td>-3.416529</td>\n      <td>1.606364</td>\n      <td>79</td>\n    </tr>\n    <tr>\n      <th>1</th>\n      <td>-1.674036</td>\n      <td>-2.188459</td>\n      <td>-3.712732</td>\n      <td>-2.619349</td>\n      <td>0.784464</td>\n      <td>1.016893</td>\n      <td>2.367308</td>\n      <td>2.183128</td>\n      <td>-3.867471</td>\n      <td>0.586361</td>\n      <td>...</td>\n      <td>0.047751</td>\n      <td>-1.164008</td>\n      <td>-1.376394</td>\n      <td>-1.457477</td>\n      <td>-2.384837</td>\n      <td>-0.789657</td>\n      <td>2.432463</td>\n      <td>-3.593261</td>\n      <td>-0.431753</td>\n      <td>47</td>\n    </tr>\n    <tr>\n      <th>2</th>\n      <td>0.258684</td>\n      <td>0.889350</td>\n      <td>0.018770</td>\n      <td>-1.333110</td>\n      <td>-0.239798</td>\n      <td>0.465441</td>\n      <td>-0.532787</td>\n      <td>0.961081</td>\n      <td>-5.122130</td>\n      <td>1.366601</td>\n      <td>...</td>\n      <td>-1.651458</td>\n      <td>-0.186464</td>\n      <td>-0.560807</td>\n      <td>0.716641</td>\n      <td>-2.783326</td>\n      <td>0.204651</td>\n      <td>-0.127211</td>\n      <td>-2.425972</td>\n      <td>-0.817969</td>\n      <td>59</td>\n    </tr>\n    <tr>\n      <th>3</th>\n      <td>-0.414445</td>\n      <td>0.718859</td>\n      <td>-3.364118</td>\n      <td>0.724973</td>\n      <td>0.580903</td>\n      <td>-0.592890</td>\n      <td>1.794042</td>\n      <td>2.928200</td>\n      <td>-2.725754</td>\n      <td>-0.378467</td>\n      <td>...</td>\n      <td>0.317549</td>\n      <td>0.467490</td>\n      <td>0.011022</td>\n      <td>-0.338227</td>\n      <td>0.736255</td>\n      <td>0.871529</td>\n      <td>-1.055821</td>\n      <td>-1.718852</td>\n      <td>0.495873</td>\n      <td>323</td>\n    </tr>\n    <tr>\n      <th>4</th>\n      <td>-0.342295</td>\n      <td>0.803118</td>\n      <td>-2.194510</td>\n      <td>0.045333</td>\n      <td>0.846540</td>\n      <td>0.829211</td>\n      <td>1.369973</td>\n      <td>3.669507</td>\n      <td>-2.771239</td>\n      <td>0.938031</td>\n      <td>...</td>\n      <td>-0.270222</td>\n      <td>-0.022945</td>\n      <td>0.273825</td>\n      <td>-0.753031</td>\n      <td>-0.090764</td>\n      <td>-0.530125</td>\n      <td>-0.000917</td>\n      <td>-2.362792</td>\n      <td>0.634489</td>\n      <td>298</td>\n    </tr>\n  </tbody>\n</table>\n<p>5 rows × 301 columns</p>\n</div>"
     },
     "execution_count": 147,
     "metadata": {},
     "output_type": "execute_result"
    }
   ],
   "source": [
    "review_vectors_df = reviews_df['review_vector'].apply(lambda vector: pd.Series(vector))\n",
    "features_df = review_vectors_df.join(reviews_df['text.length'])\n",
    "features_df.columns = features_df.columns.astype(str)\n",
    "\n",
    "features_df.head()"
   ],
   "metadata": {
    "collapsed": false,
    "ExecuteTime": {
     "end_time": "2024-02-29T19:40:30.640387Z",
     "start_time": "2024-02-29T19:40:28.535209Z"
    }
   },
   "id": "f65d79521a4d4da4",
   "execution_count": 147
  },
  {
   "cell_type": "code",
   "outputs": [],
   "source": [
    "#now let's divide them into train and test sets\n",
    "X = features_df\n",
    "\n",
    "y = reviews_df[\"category\"]\n",
    "\n",
    "X_train, X_test, y_train, y_test = train_test_split(X, y, test_size=0.2, random_state=42)"
   ],
   "metadata": {
    "collapsed": false,
    "ExecuteTime": {
     "end_time": "2024-02-29T19:41:14.872470Z",
     "start_time": "2024-02-29T19:41:14.821621Z"
    }
   },
   "id": "76b60076e72e2f4d",
   "execution_count": 148
  },
  {
   "cell_type": "code",
   "outputs": [],
   "source": [
    "\n",
    "\n",
    "# Column Transformer transforms the columns and applied the function in this case it is standardization\n",
    "# also i tried to use Normalization for word vectors\n",
    "ct = ColumnTransformer(\n",
    "    transformers=[\n",
    "        (\n",
    "            \"scaling\",\n",
    "            StandardScaler(),\n",
    "            [\"text.length\"],\n",
    "        ),\n",
    "        (\n",
    "            \"minmax\",\n",
    "            MinMaxScaler(),\n",
    "            [str(i) for i in range(300)]\n",
    "        )\n",
    "    ],\n",
    "    remainder=\"passthrough\",\n",
    "    verbose_feature_names_out=False\n",
    ")"
   ],
   "metadata": {
    "collapsed": false,
    "ExecuteTime": {
     "end_time": "2024-02-29T20:11:23.385524Z",
     "start_time": "2024-02-29T20:11:23.308384Z"
    }
   },
   "id": "56e09981992b1da9",
   "execution_count": 156
  },
  {
   "cell_type": "code",
   "outputs": [
    {
     "name": "stderr",
     "output_type": "stream",
     "text": [
      "/Library/Frameworks/Python.framework/Versions/3.11/lib/python3.11/site-packages/sklearn/neural_network/_multilayer_perceptron.py:691: ConvergenceWarning: Stochastic Optimizer: Maximum iterations (200) reached and the optimization hasn't converged yet.\n",
      "  warnings.warn(\n",
      "/Library/Frameworks/Python.framework/Versions/3.11/lib/python3.11/site-packages/sklearn/neural_network/_multilayer_perceptron.py:691: ConvergenceWarning: Stochastic Optimizer: Maximum iterations (200) reached and the optimization hasn't converged yet.\n",
      "  warnings.warn(\n",
      "/Library/Frameworks/Python.framework/Versions/3.11/lib/python3.11/site-packages/sklearn/neural_network/_multilayer_perceptron.py:691: ConvergenceWarning: Stochastic Optimizer: Maximum iterations (200) reached and the optimization hasn't converged yet.\n",
      "  warnings.warn(\n",
      "/Library/Frameworks/Python.framework/Versions/3.11/lib/python3.11/site-packages/sklearn/neural_network/_multilayer_perceptron.py:691: ConvergenceWarning: Stochastic Optimizer: Maximum iterations (200) reached and the optimization hasn't converged yet.\n",
      "  warnings.warn(\n",
      "/Library/Frameworks/Python.framework/Versions/3.11/lib/python3.11/site-packages/sklearn/neural_network/_multilayer_perceptron.py:691: ConvergenceWarning: Stochastic Optimizer: Maximum iterations (200) reached and the optimization hasn't converged yet.\n",
      "  warnings.warn(\n",
      "/Library/Frameworks/Python.framework/Versions/3.11/lib/python3.11/site-packages/sklearn/neural_network/_multilayer_perceptron.py:691: ConvergenceWarning: Stochastic Optimizer: Maximum iterations (200) reached and the optimization hasn't converged yet.\n",
      "  warnings.warn(\n",
      "/Library/Frameworks/Python.framework/Versions/3.11/lib/python3.11/site-packages/sklearn/neural_network/_multilayer_perceptron.py:691: ConvergenceWarning: Stochastic Optimizer: Maximum iterations (200) reached and the optimization hasn't converged yet.\n",
      "  warnings.warn(\n",
      "/Library/Frameworks/Python.framework/Versions/3.11/lib/python3.11/site-packages/sklearn/neural_network/_multilayer_perceptron.py:691: ConvergenceWarning: Stochastic Optimizer: Maximum iterations (200) reached and the optimization hasn't converged yet.\n",
      "  warnings.warn(\n",
      "/Library/Frameworks/Python.framework/Versions/3.11/lib/python3.11/site-packages/sklearn/neural_network/_multilayer_perceptron.py:691: ConvergenceWarning: Stochastic Optimizer: Maximum iterations (200) reached and the optimization hasn't converged yet.\n",
      "  warnings.warn(\n",
      "/Library/Frameworks/Python.framework/Versions/3.11/lib/python3.11/site-packages/sklearn/neural_network/_multilayer_perceptron.py:691: ConvergenceWarning: Stochastic Optimizer: Maximum iterations (200) reached and the optimization hasn't converged yet.\n",
      "  warnings.warn(\n"
     ]
    },
    {
     "data": {
      "text/plain": "GridSearchCV(cv=5,\n             estimator=Pipeline(steps=[('scaling',\n                                        ColumnTransformer(remainder='passthrough',\n                                                          transformers=[('scaling',\n                                                                         StandardScaler(),\n                                                                         ['text.length']),\n                                                                        ('minmax',\n                                                                         MinMaxScaler(),\n                                                                         ['0',\n                                                                          '1',\n                                                                          '2',\n                                                                          '3',\n                                                                          '4',\n                                                                          '5',\n                                                                          '6',\n                                                                          '7',\n                                                                          '8',\n                                                                          '9',\n                                                                          '10',\n                                                                          '11',\n                                                                          '12',\n                                                                          '13',\n                                                                          '14',\n                                                                          '15',\n                                                                          '16',\n                                                                          '17',\n                                                                          '18',\n                                                                          '19',\n                                                                          '20',\n                                                                          '21',\n                                                                          '22',\n                                                                          '23',\n                                                                          '24',\n                                                                          '25',\n                                                                          '26',\n                                                                          '27',\n                                                                          '28',\n                                                                          '29', ...])],\n                                                          verbose_feature_names_out=False)),\n                                       ('clf', MLPClassifier())]),\n             param_grid={'clf__hidden_layer_sizes': ((20, 20), (30, 30)),\n                         'clf__learning_rate_init': [0.0001, 0.001]},\n             scoring='accuracy')",
      "text/html": "<style>#sk-container-id-2 {\n  /* Definition of color scheme common for light and dark mode */\n  --sklearn-color-text: black;\n  --sklearn-color-line: gray;\n  /* Definition of color scheme for unfitted estimators */\n  --sklearn-color-unfitted-level-0: #fff5e6;\n  --sklearn-color-unfitted-level-1: #f6e4d2;\n  --sklearn-color-unfitted-level-2: #ffe0b3;\n  --sklearn-color-unfitted-level-3: chocolate;\n  /* Definition of color scheme for fitted estimators */\n  --sklearn-color-fitted-level-0: #f0f8ff;\n  --sklearn-color-fitted-level-1: #d4ebff;\n  --sklearn-color-fitted-level-2: #b3dbfd;\n  --sklearn-color-fitted-level-3: cornflowerblue;\n\n  /* Specific color for light theme */\n  --sklearn-color-text-on-default-background: var(--sg-text-color, var(--theme-code-foreground, var(--jp-content-font-color1, black)));\n  --sklearn-color-background: var(--sg-background-color, var(--theme-background, var(--jp-layout-color0, white)));\n  --sklearn-color-border-box: var(--sg-text-color, var(--theme-code-foreground, var(--jp-content-font-color1, black)));\n  --sklearn-color-icon: #696969;\n\n  @media (prefers-color-scheme: dark) {\n    /* Redefinition of color scheme for dark theme */\n    --sklearn-color-text-on-default-background: var(--sg-text-color, var(--theme-code-foreground, var(--jp-content-font-color1, white)));\n    --sklearn-color-background: var(--sg-background-color, var(--theme-background, var(--jp-layout-color0, #111)));\n    --sklearn-color-border-box: var(--sg-text-color, var(--theme-code-foreground, var(--jp-content-font-color1, white)));\n    --sklearn-color-icon: #878787;\n  }\n}\n\n#sk-container-id-2 {\n  color: var(--sklearn-color-text);\n}\n\n#sk-container-id-2 pre {\n  padding: 0;\n}\n\n#sk-container-id-2 input.sk-hidden--visually {\n  border: 0;\n  clip: rect(1px 1px 1px 1px);\n  clip: rect(1px, 1px, 1px, 1px);\n  height: 1px;\n  margin: -1px;\n  overflow: hidden;\n  padding: 0;\n  position: absolute;\n  width: 1px;\n}\n\n#sk-container-id-2 div.sk-dashed-wrapped {\n  border: 1px dashed var(--sklearn-color-line);\n  margin: 0 0.4em 0.5em 0.4em;\n  box-sizing: border-box;\n  padding-bottom: 0.4em;\n  background-color: var(--sklearn-color-background);\n}\n\n#sk-container-id-2 div.sk-container {\n  /* jupyter's `normalize.less` sets `[hidden] { display: none; }`\n     but bootstrap.min.css set `[hidden] { display: none !important; }`\n     so we also need the `!important` here to be able to override the\n     default hidden behavior on the sphinx rendered scikit-learn.org.\n     See: https://github.com/scikit-learn/scikit-learn/issues/21755 */\n  display: inline-block !important;\n  position: relative;\n}\n\n#sk-container-id-2 div.sk-text-repr-fallback {\n  display: none;\n}\n\ndiv.sk-parallel-item,\ndiv.sk-serial,\ndiv.sk-item {\n  /* draw centered vertical line to link estimators */\n  background-image: linear-gradient(var(--sklearn-color-text-on-default-background), var(--sklearn-color-text-on-default-background));\n  background-size: 2px 100%;\n  background-repeat: no-repeat;\n  background-position: center center;\n}\n\n/* Parallel-specific style estimator block */\n\n#sk-container-id-2 div.sk-parallel-item::after {\n  content: \"\";\n  width: 100%;\n  border-bottom: 2px solid var(--sklearn-color-text-on-default-background);\n  flex-grow: 1;\n}\n\n#sk-container-id-2 div.sk-parallel {\n  display: flex;\n  align-items: stretch;\n  justify-content: center;\n  background-color: var(--sklearn-color-background);\n  position: relative;\n}\n\n#sk-container-id-2 div.sk-parallel-item {\n  display: flex;\n  flex-direction: column;\n}\n\n#sk-container-id-2 div.sk-parallel-item:first-child::after {\n  align-self: flex-end;\n  width: 50%;\n}\n\n#sk-container-id-2 div.sk-parallel-item:last-child::after {\n  align-self: flex-start;\n  width: 50%;\n}\n\n#sk-container-id-2 div.sk-parallel-item:only-child::after {\n  width: 0;\n}\n\n/* Serial-specific style estimator block */\n\n#sk-container-id-2 div.sk-serial {\n  display: flex;\n  flex-direction: column;\n  align-items: center;\n  background-color: var(--sklearn-color-background);\n  padding-right: 1em;\n  padding-left: 1em;\n}\n\n\n/* Toggleable style: style used for estimator/Pipeline/ColumnTransformer box that is\nclickable and can be expanded/collapsed.\n- Pipeline and ColumnTransformer use this feature and define the default style\n- Estimators will overwrite some part of the style using the `sk-estimator` class\n*/\n\n/* Pipeline and ColumnTransformer style (default) */\n\n#sk-container-id-2 div.sk-toggleable {\n  /* Default theme specific background. It is overwritten whether we have a\n  specific estimator or a Pipeline/ColumnTransformer */\n  background-color: var(--sklearn-color-background);\n}\n\n/* Toggleable label */\n#sk-container-id-2 label.sk-toggleable__label {\n  cursor: pointer;\n  display: block;\n  width: 100%;\n  margin-bottom: 0;\n  padding: 0.5em;\n  box-sizing: border-box;\n  text-align: center;\n}\n\n#sk-container-id-2 label.sk-toggleable__label-arrow:before {\n  /* Arrow on the left of the label */\n  content: \"▸\";\n  float: left;\n  margin-right: 0.25em;\n  color: var(--sklearn-color-icon);\n}\n\n#sk-container-id-2 label.sk-toggleable__label-arrow:hover:before {\n  color: var(--sklearn-color-text);\n}\n\n/* Toggleable content - dropdown */\n\n#sk-container-id-2 div.sk-toggleable__content {\n  max-height: 0;\n  max-width: 0;\n  overflow: hidden;\n  text-align: left;\n  /* unfitted */\n  background-color: var(--sklearn-color-unfitted-level-0);\n}\n\n#sk-container-id-2 div.sk-toggleable__content.fitted {\n  /* fitted */\n  background-color: var(--sklearn-color-fitted-level-0);\n}\n\n#sk-container-id-2 div.sk-toggleable__content pre {\n  margin: 0.2em;\n  border-radius: 0.25em;\n  color: var(--sklearn-color-text);\n  /* unfitted */\n  background-color: var(--sklearn-color-unfitted-level-0);\n}\n\n#sk-container-id-2 div.sk-toggleable__content.fitted pre {\n  /* unfitted */\n  background-color: var(--sklearn-color-fitted-level-0);\n}\n\n#sk-container-id-2 input.sk-toggleable__control:checked~div.sk-toggleable__content {\n  /* Expand drop-down */\n  max-height: 200px;\n  max-width: 100%;\n  overflow: auto;\n}\n\n#sk-container-id-2 input.sk-toggleable__control:checked~label.sk-toggleable__label-arrow:before {\n  content: \"▾\";\n}\n\n/* Pipeline/ColumnTransformer-specific style */\n\n#sk-container-id-2 div.sk-label input.sk-toggleable__control:checked~label.sk-toggleable__label {\n  color: var(--sklearn-color-text);\n  background-color: var(--sklearn-color-unfitted-level-2);\n}\n\n#sk-container-id-2 div.sk-label.fitted input.sk-toggleable__control:checked~label.sk-toggleable__label {\n  background-color: var(--sklearn-color-fitted-level-2);\n}\n\n/* Estimator-specific style */\n\n/* Colorize estimator box */\n#sk-container-id-2 div.sk-estimator input.sk-toggleable__control:checked~label.sk-toggleable__label {\n  /* unfitted */\n  background-color: var(--sklearn-color-unfitted-level-2);\n}\n\n#sk-container-id-2 div.sk-estimator.fitted input.sk-toggleable__control:checked~label.sk-toggleable__label {\n  /* fitted */\n  background-color: var(--sklearn-color-fitted-level-2);\n}\n\n#sk-container-id-2 div.sk-label label.sk-toggleable__label,\n#sk-container-id-2 div.sk-label label {\n  /* The background is the default theme color */\n  color: var(--sklearn-color-text-on-default-background);\n}\n\n/* On hover, darken the color of the background */\n#sk-container-id-2 div.sk-label:hover label.sk-toggleable__label {\n  color: var(--sklearn-color-text);\n  background-color: var(--sklearn-color-unfitted-level-2);\n}\n\n/* Label box, darken color on hover, fitted */\n#sk-container-id-2 div.sk-label.fitted:hover label.sk-toggleable__label.fitted {\n  color: var(--sklearn-color-text);\n  background-color: var(--sklearn-color-fitted-level-2);\n}\n\n/* Estimator label */\n\n#sk-container-id-2 div.sk-label label {\n  font-family: monospace;\n  font-weight: bold;\n  display: inline-block;\n  line-height: 1.2em;\n}\n\n#sk-container-id-2 div.sk-label-container {\n  text-align: center;\n}\n\n/* Estimator-specific */\n#sk-container-id-2 div.sk-estimator {\n  font-family: monospace;\n  border: 1px dotted var(--sklearn-color-border-box);\n  border-radius: 0.25em;\n  box-sizing: border-box;\n  margin-bottom: 0.5em;\n  /* unfitted */\n  background-color: var(--sklearn-color-unfitted-level-0);\n}\n\n#sk-container-id-2 div.sk-estimator.fitted {\n  /* fitted */\n  background-color: var(--sklearn-color-fitted-level-0);\n}\n\n/* on hover */\n#sk-container-id-2 div.sk-estimator:hover {\n  /* unfitted */\n  background-color: var(--sklearn-color-unfitted-level-2);\n}\n\n#sk-container-id-2 div.sk-estimator.fitted:hover {\n  /* fitted */\n  background-color: var(--sklearn-color-fitted-level-2);\n}\n\n/* Specification for estimator info (e.g. \"i\" and \"?\") */\n\n/* Common style for \"i\" and \"?\" */\n\n.sk-estimator-doc-link,\na:link.sk-estimator-doc-link,\na:visited.sk-estimator-doc-link {\n  float: right;\n  font-size: smaller;\n  line-height: 1em;\n  font-family: monospace;\n  background-color: var(--sklearn-color-background);\n  border-radius: 1em;\n  height: 1em;\n  width: 1em;\n  text-decoration: none !important;\n  margin-left: 1ex;\n  /* unfitted */\n  border: var(--sklearn-color-unfitted-level-1) 1pt solid;\n  color: var(--sklearn-color-unfitted-level-1);\n}\n\n.sk-estimator-doc-link.fitted,\na:link.sk-estimator-doc-link.fitted,\na:visited.sk-estimator-doc-link.fitted {\n  /* fitted */\n  border: var(--sklearn-color-fitted-level-1) 1pt solid;\n  color: var(--sklearn-color-fitted-level-1);\n}\n\n/* On hover */\ndiv.sk-estimator:hover .sk-estimator-doc-link:hover,\n.sk-estimator-doc-link:hover,\ndiv.sk-label-container:hover .sk-estimator-doc-link:hover,\n.sk-estimator-doc-link:hover {\n  /* unfitted */\n  background-color: var(--sklearn-color-unfitted-level-3);\n  color: var(--sklearn-color-background);\n  text-decoration: none;\n}\n\ndiv.sk-estimator.fitted:hover .sk-estimator-doc-link.fitted:hover,\n.sk-estimator-doc-link.fitted:hover,\ndiv.sk-label-container:hover .sk-estimator-doc-link.fitted:hover,\n.sk-estimator-doc-link.fitted:hover {\n  /* fitted */\n  background-color: var(--sklearn-color-fitted-level-3);\n  color: var(--sklearn-color-background);\n  text-decoration: none;\n}\n\n/* Span, style for the box shown on hovering the info icon */\n.sk-estimator-doc-link span {\n  display: none;\n  z-index: 9999;\n  position: relative;\n  font-weight: normal;\n  right: .2ex;\n  padding: .5ex;\n  margin: .5ex;\n  width: min-content;\n  min-width: 20ex;\n  max-width: 50ex;\n  color: var(--sklearn-color-text);\n  box-shadow: 2pt 2pt 4pt #999;\n  /* unfitted */\n  background: var(--sklearn-color-unfitted-level-0);\n  border: .5pt solid var(--sklearn-color-unfitted-level-3);\n}\n\n.sk-estimator-doc-link.fitted span {\n  /* fitted */\n  background: var(--sklearn-color-fitted-level-0);\n  border: var(--sklearn-color-fitted-level-3);\n}\n\n.sk-estimator-doc-link:hover span {\n  display: block;\n}\n\n/* \"?\"-specific style due to the `<a>` HTML tag */\n\n#sk-container-id-2 a.estimator_doc_link {\n  float: right;\n  font-size: 1rem;\n  line-height: 1em;\n  font-family: monospace;\n  background-color: var(--sklearn-color-background);\n  border-radius: 1rem;\n  height: 1rem;\n  width: 1rem;\n  text-decoration: none;\n  /* unfitted */\n  color: var(--sklearn-color-unfitted-level-1);\n  border: var(--sklearn-color-unfitted-level-1) 1pt solid;\n}\n\n#sk-container-id-2 a.estimator_doc_link.fitted {\n  /* fitted */\n  border: var(--sklearn-color-fitted-level-1) 1pt solid;\n  color: var(--sklearn-color-fitted-level-1);\n}\n\n/* On hover */\n#sk-container-id-2 a.estimator_doc_link:hover {\n  /* unfitted */\n  background-color: var(--sklearn-color-unfitted-level-3);\n  color: var(--sklearn-color-background);\n  text-decoration: none;\n}\n\n#sk-container-id-2 a.estimator_doc_link.fitted:hover {\n  /* fitted */\n  background-color: var(--sklearn-color-fitted-level-3);\n}\n</style><div id=\"sk-container-id-2\" class=\"sk-top-container\"><div class=\"sk-text-repr-fallback\"><pre>GridSearchCV(cv=5,\n             estimator=Pipeline(steps=[(&#x27;scaling&#x27;,\n                                        ColumnTransformer(remainder=&#x27;passthrough&#x27;,\n                                                          transformers=[(&#x27;scaling&#x27;,\n                                                                         StandardScaler(),\n                                                                         [&#x27;text.length&#x27;]),\n                                                                        (&#x27;minmax&#x27;,\n                                                                         MinMaxScaler(),\n                                                                         [&#x27;0&#x27;,\n                                                                          &#x27;1&#x27;,\n                                                                          &#x27;2&#x27;,\n                                                                          &#x27;3&#x27;,\n                                                                          &#x27;4&#x27;,\n                                                                          &#x27;5&#x27;,\n                                                                          &#x27;6&#x27;,\n                                                                          &#x27;7&#x27;,\n                                                                          &#x27;8&#x27;,\n                                                                          &#x27;9&#x27;,\n                                                                          &#x27;10&#x27;,\n                                                                          &#x27;11&#x27;,\n                                                                          &#x27;12&#x27;,\n                                                                          &#x27;13&#x27;,\n                                                                          &#x27;14&#x27;,\n                                                                          &#x27;15&#x27;,\n                                                                          &#x27;16&#x27;,\n                                                                          &#x27;17&#x27;,\n                                                                          &#x27;18&#x27;,\n                                                                          &#x27;19&#x27;,\n                                                                          &#x27;20&#x27;,\n                                                                          &#x27;21&#x27;,\n                                                                          &#x27;22&#x27;,\n                                                                          &#x27;23&#x27;,\n                                                                          &#x27;24&#x27;,\n                                                                          &#x27;25&#x27;,\n                                                                          &#x27;26&#x27;,\n                                                                          &#x27;27&#x27;,\n                                                                          &#x27;28&#x27;,\n                                                                          &#x27;29&#x27;, ...])],\n                                                          verbose_feature_names_out=False)),\n                                       (&#x27;clf&#x27;, MLPClassifier())]),\n             param_grid={&#x27;clf__hidden_layer_sizes&#x27;: ((20, 20), (30, 30)),\n                         &#x27;clf__learning_rate_init&#x27;: [0.0001, 0.001]},\n             scoring=&#x27;accuracy&#x27;)</pre><b>In a Jupyter environment, please rerun this cell to show the HTML representation or trust the notebook. <br />On GitHub, the HTML representation is unable to render, please try loading this page with nbviewer.org.</b></div><div class=\"sk-container\" hidden><div class=\"sk-item sk-dashed-wrapped\"><div class=\"sk-label-container\"><div class=\"sk-label fitted sk-toggleable\"><input class=\"sk-toggleable__control sk-hidden--visually\" id=\"sk-estimator-id-9\" type=\"checkbox\" ><label for=\"sk-estimator-id-9\" class=\"sk-toggleable__label fitted sk-toggleable__label-arrow fitted\">&nbsp;&nbsp;GridSearchCV<a class=\"sk-estimator-doc-link fitted\" rel=\"noreferrer\" target=\"_blank\" href=\"https://scikit-learn.org/1.4/modules/generated/sklearn.model_selection.GridSearchCV.html\">?<span>Documentation for GridSearchCV</span></a><span class=\"sk-estimator-doc-link fitted\">i<span>Fitted</span></span></label><div class=\"sk-toggleable__content fitted\"><pre>GridSearchCV(cv=5,\n             estimator=Pipeline(steps=[(&#x27;scaling&#x27;,\n                                        ColumnTransformer(remainder=&#x27;passthrough&#x27;,\n                                                          transformers=[(&#x27;scaling&#x27;,\n                                                                         StandardScaler(),\n                                                                         [&#x27;text.length&#x27;]),\n                                                                        (&#x27;minmax&#x27;,\n                                                                         MinMaxScaler(),\n                                                                         [&#x27;0&#x27;,\n                                                                          &#x27;1&#x27;,\n                                                                          &#x27;2&#x27;,\n                                                                          &#x27;3&#x27;,\n                                                                          &#x27;4&#x27;,\n                                                                          &#x27;5&#x27;,\n                                                                          &#x27;6&#x27;,\n                                                                          &#x27;7&#x27;,\n                                                                          &#x27;8&#x27;,\n                                                                          &#x27;9&#x27;,\n                                                                          &#x27;10&#x27;,\n                                                                          &#x27;11&#x27;,\n                                                                          &#x27;12&#x27;,\n                                                                          &#x27;13&#x27;,\n                                                                          &#x27;14&#x27;,\n                                                                          &#x27;15&#x27;,\n                                                                          &#x27;16&#x27;,\n                                                                          &#x27;17&#x27;,\n                                                                          &#x27;18&#x27;,\n                                                                          &#x27;19&#x27;,\n                                                                          &#x27;20&#x27;,\n                                                                          &#x27;21&#x27;,\n                                                                          &#x27;22&#x27;,\n                                                                          &#x27;23&#x27;,\n                                                                          &#x27;24&#x27;,\n                                                                          &#x27;25&#x27;,\n                                                                          &#x27;26&#x27;,\n                                                                          &#x27;27&#x27;,\n                                                                          &#x27;28&#x27;,\n                                                                          &#x27;29&#x27;, ...])],\n                                                          verbose_feature_names_out=False)),\n                                       (&#x27;clf&#x27;, MLPClassifier())]),\n             param_grid={&#x27;clf__hidden_layer_sizes&#x27;: ((20, 20), (30, 30)),\n                         &#x27;clf__learning_rate_init&#x27;: [0.0001, 0.001]},\n             scoring=&#x27;accuracy&#x27;)</pre></div> </div></div><div class=\"sk-parallel\"><div class=\"sk-parallel-item\"><div class=\"sk-item\"><div class=\"sk-label-container\"><div class=\"sk-label fitted sk-toggleable\"><input class=\"sk-toggleable__control sk-hidden--visually\" id=\"sk-estimator-id-10\" type=\"checkbox\" ><label for=\"sk-estimator-id-10\" class=\"sk-toggleable__label fitted sk-toggleable__label-arrow fitted\">estimator: Pipeline</label><div class=\"sk-toggleable__content fitted\"><pre>Pipeline(steps=[(&#x27;scaling&#x27;,\n                 ColumnTransformer(remainder=&#x27;passthrough&#x27;,\n                                   transformers=[(&#x27;scaling&#x27;, StandardScaler(),\n                                                  [&#x27;text.length&#x27;]),\n                                                 (&#x27;minmax&#x27;, MinMaxScaler(),\n                                                  [&#x27;0&#x27;, &#x27;1&#x27;, &#x27;2&#x27;, &#x27;3&#x27;, &#x27;4&#x27;, &#x27;5&#x27;,\n                                                   &#x27;6&#x27;, &#x27;7&#x27;, &#x27;8&#x27;, &#x27;9&#x27;, &#x27;10&#x27;,\n                                                   &#x27;11&#x27;, &#x27;12&#x27;, &#x27;13&#x27;, &#x27;14&#x27;, &#x27;15&#x27;,\n                                                   &#x27;16&#x27;, &#x27;17&#x27;, &#x27;18&#x27;, &#x27;19&#x27;, &#x27;20&#x27;,\n                                                   &#x27;21&#x27;, &#x27;22&#x27;, &#x27;23&#x27;, &#x27;24&#x27;, &#x27;25&#x27;,\n                                                   &#x27;26&#x27;, &#x27;27&#x27;, &#x27;28&#x27;, &#x27;29&#x27;, ...])],\n                                   verbose_feature_names_out=False)),\n                (&#x27;clf&#x27;, MLPClassifier())])</pre></div> </div></div><div class=\"sk-serial\"><div class=\"sk-item\"><div class=\"sk-serial\"><div class=\"sk-item sk-dashed-wrapped\"><div class=\"sk-label-container\"><div class=\"sk-label fitted sk-toggleable\"><input class=\"sk-toggleable__control sk-hidden--visually\" id=\"sk-estimator-id-11\" type=\"checkbox\" ><label for=\"sk-estimator-id-11\" class=\"sk-toggleable__label fitted sk-toggleable__label-arrow fitted\">&nbsp;scaling: ColumnTransformer<a class=\"sk-estimator-doc-link fitted\" rel=\"noreferrer\" target=\"_blank\" href=\"https://scikit-learn.org/1.4/modules/generated/sklearn.compose.ColumnTransformer.html\">?<span>Documentation for scaling: ColumnTransformer</span></a></label><div class=\"sk-toggleable__content fitted\"><pre>ColumnTransformer(remainder=&#x27;passthrough&#x27;,\n                  transformers=[(&#x27;scaling&#x27;, StandardScaler(), [&#x27;text.length&#x27;]),\n                                (&#x27;minmax&#x27;, MinMaxScaler(),\n                                 [&#x27;0&#x27;, &#x27;1&#x27;, &#x27;2&#x27;, &#x27;3&#x27;, &#x27;4&#x27;, &#x27;5&#x27;, &#x27;6&#x27;, &#x27;7&#x27;, &#x27;8&#x27;,\n                                  &#x27;9&#x27;, &#x27;10&#x27;, &#x27;11&#x27;, &#x27;12&#x27;, &#x27;13&#x27;, &#x27;14&#x27;, &#x27;15&#x27;, &#x27;16&#x27;,\n                                  &#x27;17&#x27;, &#x27;18&#x27;, &#x27;19&#x27;, &#x27;20&#x27;, &#x27;21&#x27;, &#x27;22&#x27;, &#x27;23&#x27;,\n                                  &#x27;24&#x27;, &#x27;25&#x27;, &#x27;26&#x27;, &#x27;27&#x27;, &#x27;28&#x27;, &#x27;29&#x27;, ...])],\n                  verbose_feature_names_out=False)</pre></div> </div></div><div class=\"sk-parallel\"><div class=\"sk-parallel-item\"><div class=\"sk-item\"><div class=\"sk-label-container\"><div class=\"sk-label fitted sk-toggleable\"><input class=\"sk-toggleable__control sk-hidden--visually\" id=\"sk-estimator-id-12\" type=\"checkbox\" ><label for=\"sk-estimator-id-12\" class=\"sk-toggleable__label fitted sk-toggleable__label-arrow fitted\">scaling</label><div class=\"sk-toggleable__content fitted\"><pre>[&#x27;text.length&#x27;]</pre></div> </div></div><div class=\"sk-serial\"><div class=\"sk-item\"><div class=\"sk-estimator fitted sk-toggleable\"><input class=\"sk-toggleable__control sk-hidden--visually\" id=\"sk-estimator-id-13\" type=\"checkbox\" ><label for=\"sk-estimator-id-13\" class=\"sk-toggleable__label fitted sk-toggleable__label-arrow fitted\">&nbsp;StandardScaler<a class=\"sk-estimator-doc-link fitted\" rel=\"noreferrer\" target=\"_blank\" href=\"https://scikit-learn.org/1.4/modules/generated/sklearn.preprocessing.StandardScaler.html\">?<span>Documentation for StandardScaler</span></a></label><div class=\"sk-toggleable__content fitted\"><pre>StandardScaler()</pre></div> </div></div></div></div></div><div class=\"sk-parallel-item\"><div class=\"sk-item\"><div class=\"sk-label-container\"><div class=\"sk-label fitted sk-toggleable\"><input class=\"sk-toggleable__control sk-hidden--visually\" id=\"sk-estimator-id-14\" type=\"checkbox\" ><label for=\"sk-estimator-id-14\" class=\"sk-toggleable__label fitted sk-toggleable__label-arrow fitted\">minmax</label><div class=\"sk-toggleable__content fitted\"><pre>[&#x27;0&#x27;, &#x27;1&#x27;, &#x27;2&#x27;, &#x27;3&#x27;, &#x27;4&#x27;, &#x27;5&#x27;, &#x27;6&#x27;, &#x27;7&#x27;, &#x27;8&#x27;, &#x27;9&#x27;, &#x27;10&#x27;, &#x27;11&#x27;, &#x27;12&#x27;, &#x27;13&#x27;, &#x27;14&#x27;, &#x27;15&#x27;, &#x27;16&#x27;, &#x27;17&#x27;, &#x27;18&#x27;, &#x27;19&#x27;, &#x27;20&#x27;, &#x27;21&#x27;, &#x27;22&#x27;, &#x27;23&#x27;, &#x27;24&#x27;, &#x27;25&#x27;, &#x27;26&#x27;, &#x27;27&#x27;, &#x27;28&#x27;, &#x27;29&#x27;, &#x27;30&#x27;, &#x27;31&#x27;, &#x27;32&#x27;, &#x27;33&#x27;, &#x27;34&#x27;, &#x27;35&#x27;, &#x27;36&#x27;, &#x27;37&#x27;, &#x27;38&#x27;, &#x27;39&#x27;, &#x27;40&#x27;, &#x27;41&#x27;, &#x27;42&#x27;, &#x27;43&#x27;, &#x27;44&#x27;, &#x27;45&#x27;, &#x27;46&#x27;, &#x27;47&#x27;, &#x27;48&#x27;, &#x27;49&#x27;, &#x27;50&#x27;, &#x27;51&#x27;, &#x27;52&#x27;, &#x27;53&#x27;, &#x27;54&#x27;, &#x27;55&#x27;, &#x27;56&#x27;, &#x27;57&#x27;, &#x27;58&#x27;, &#x27;59&#x27;, &#x27;60&#x27;, &#x27;61&#x27;, &#x27;62&#x27;, &#x27;63&#x27;, &#x27;64&#x27;, &#x27;65&#x27;, &#x27;66&#x27;, &#x27;67&#x27;, &#x27;68&#x27;, &#x27;69&#x27;, &#x27;70&#x27;, &#x27;71&#x27;, &#x27;72&#x27;, &#x27;73&#x27;, &#x27;74&#x27;, &#x27;75&#x27;, &#x27;76&#x27;, &#x27;77&#x27;, &#x27;78&#x27;, &#x27;79&#x27;, &#x27;80&#x27;, &#x27;81&#x27;, &#x27;82&#x27;, &#x27;83&#x27;, &#x27;84&#x27;, &#x27;85&#x27;, &#x27;86&#x27;, &#x27;87&#x27;, &#x27;88&#x27;, &#x27;89&#x27;, &#x27;90&#x27;, &#x27;91&#x27;, &#x27;92&#x27;, &#x27;93&#x27;, &#x27;94&#x27;, &#x27;95&#x27;, &#x27;96&#x27;, &#x27;97&#x27;, &#x27;98&#x27;, &#x27;99&#x27;, &#x27;100&#x27;, &#x27;101&#x27;, &#x27;102&#x27;, &#x27;103&#x27;, &#x27;104&#x27;, &#x27;105&#x27;, &#x27;106&#x27;, &#x27;107&#x27;, &#x27;108&#x27;, &#x27;109&#x27;, &#x27;110&#x27;, &#x27;111&#x27;, &#x27;112&#x27;, &#x27;113&#x27;, &#x27;114&#x27;, &#x27;115&#x27;, &#x27;116&#x27;, &#x27;117&#x27;, &#x27;118&#x27;, &#x27;119&#x27;, &#x27;120&#x27;, &#x27;121&#x27;, &#x27;122&#x27;, &#x27;123&#x27;, &#x27;124&#x27;, &#x27;125&#x27;, &#x27;126&#x27;, &#x27;127&#x27;, &#x27;128&#x27;, &#x27;129&#x27;, &#x27;130&#x27;, &#x27;131&#x27;, &#x27;132&#x27;, &#x27;133&#x27;, &#x27;134&#x27;, &#x27;135&#x27;, &#x27;136&#x27;, &#x27;137&#x27;, &#x27;138&#x27;, &#x27;139&#x27;, &#x27;140&#x27;, &#x27;141&#x27;, &#x27;142&#x27;, &#x27;143&#x27;, &#x27;144&#x27;, &#x27;145&#x27;, &#x27;146&#x27;, &#x27;147&#x27;, &#x27;148&#x27;, &#x27;149&#x27;, &#x27;150&#x27;, &#x27;151&#x27;, &#x27;152&#x27;, &#x27;153&#x27;, &#x27;154&#x27;, &#x27;155&#x27;, &#x27;156&#x27;, &#x27;157&#x27;, &#x27;158&#x27;, &#x27;159&#x27;, &#x27;160&#x27;, &#x27;161&#x27;, &#x27;162&#x27;, &#x27;163&#x27;, &#x27;164&#x27;, &#x27;165&#x27;, &#x27;166&#x27;, &#x27;167&#x27;, &#x27;168&#x27;, &#x27;169&#x27;, &#x27;170&#x27;, &#x27;171&#x27;, &#x27;172&#x27;, &#x27;173&#x27;, &#x27;174&#x27;, &#x27;175&#x27;, &#x27;176&#x27;, &#x27;177&#x27;, &#x27;178&#x27;, &#x27;179&#x27;, &#x27;180&#x27;, &#x27;181&#x27;, &#x27;182&#x27;, &#x27;183&#x27;, &#x27;184&#x27;, &#x27;185&#x27;, &#x27;186&#x27;, &#x27;187&#x27;, &#x27;188&#x27;, &#x27;189&#x27;, &#x27;190&#x27;, &#x27;191&#x27;, &#x27;192&#x27;, &#x27;193&#x27;, &#x27;194&#x27;, &#x27;195&#x27;, &#x27;196&#x27;, &#x27;197&#x27;, &#x27;198&#x27;, &#x27;199&#x27;, &#x27;200&#x27;, &#x27;201&#x27;, &#x27;202&#x27;, &#x27;203&#x27;, &#x27;204&#x27;, &#x27;205&#x27;, &#x27;206&#x27;, &#x27;207&#x27;, &#x27;208&#x27;, &#x27;209&#x27;, &#x27;210&#x27;, &#x27;211&#x27;, &#x27;212&#x27;, &#x27;213&#x27;, &#x27;214&#x27;, &#x27;215&#x27;, &#x27;216&#x27;, &#x27;217&#x27;, &#x27;218&#x27;, &#x27;219&#x27;, &#x27;220&#x27;, &#x27;221&#x27;, &#x27;222&#x27;, &#x27;223&#x27;, &#x27;224&#x27;, &#x27;225&#x27;, &#x27;226&#x27;, &#x27;227&#x27;, &#x27;228&#x27;, &#x27;229&#x27;, &#x27;230&#x27;, &#x27;231&#x27;, &#x27;232&#x27;, &#x27;233&#x27;, &#x27;234&#x27;, &#x27;235&#x27;, &#x27;236&#x27;, &#x27;237&#x27;, &#x27;238&#x27;, &#x27;239&#x27;, &#x27;240&#x27;, &#x27;241&#x27;, &#x27;242&#x27;, &#x27;243&#x27;, &#x27;244&#x27;, &#x27;245&#x27;, &#x27;246&#x27;, &#x27;247&#x27;, &#x27;248&#x27;, &#x27;249&#x27;, &#x27;250&#x27;, &#x27;251&#x27;, &#x27;252&#x27;, &#x27;253&#x27;, &#x27;254&#x27;, &#x27;255&#x27;, &#x27;256&#x27;, &#x27;257&#x27;, &#x27;258&#x27;, &#x27;259&#x27;, &#x27;260&#x27;, &#x27;261&#x27;, &#x27;262&#x27;, &#x27;263&#x27;, &#x27;264&#x27;, &#x27;265&#x27;, &#x27;266&#x27;, &#x27;267&#x27;, &#x27;268&#x27;, &#x27;269&#x27;, &#x27;270&#x27;, &#x27;271&#x27;, &#x27;272&#x27;, &#x27;273&#x27;, &#x27;274&#x27;, &#x27;275&#x27;, &#x27;276&#x27;, &#x27;277&#x27;, &#x27;278&#x27;, &#x27;279&#x27;, &#x27;280&#x27;, &#x27;281&#x27;, &#x27;282&#x27;, &#x27;283&#x27;, &#x27;284&#x27;, &#x27;285&#x27;, &#x27;286&#x27;, &#x27;287&#x27;, &#x27;288&#x27;, &#x27;289&#x27;, &#x27;290&#x27;, &#x27;291&#x27;, &#x27;292&#x27;, &#x27;293&#x27;, &#x27;294&#x27;, &#x27;295&#x27;, &#x27;296&#x27;, &#x27;297&#x27;, &#x27;298&#x27;, &#x27;299&#x27;]</pre></div> </div></div><div class=\"sk-serial\"><div class=\"sk-item\"><div class=\"sk-estimator fitted sk-toggleable\"><input class=\"sk-toggleable__control sk-hidden--visually\" id=\"sk-estimator-id-15\" type=\"checkbox\" ><label for=\"sk-estimator-id-15\" class=\"sk-toggleable__label fitted sk-toggleable__label-arrow fitted\">&nbsp;MinMaxScaler<a class=\"sk-estimator-doc-link fitted\" rel=\"noreferrer\" target=\"_blank\" href=\"https://scikit-learn.org/1.4/modules/generated/sklearn.preprocessing.MinMaxScaler.html\">?<span>Documentation for MinMaxScaler</span></a></label><div class=\"sk-toggleable__content fitted\"><pre>MinMaxScaler()</pre></div> </div></div></div></div></div><div class=\"sk-parallel-item\"><div class=\"sk-item\"><div class=\"sk-label-container\"><div class=\"sk-label fitted sk-toggleable\"><input class=\"sk-toggleable__control sk-hidden--visually\" id=\"sk-estimator-id-16\" type=\"checkbox\" ><label for=\"sk-estimator-id-16\" class=\"sk-toggleable__label fitted sk-toggleable__label-arrow fitted\">remainder</label><div class=\"sk-toggleable__content fitted\"><pre></pre></div> </div></div><div class=\"sk-serial\"><div class=\"sk-item\"><div class=\"sk-estimator fitted sk-toggleable\"><input class=\"sk-toggleable__control sk-hidden--visually\" id=\"sk-estimator-id-17\" type=\"checkbox\" ><label for=\"sk-estimator-id-17\" class=\"sk-toggleable__label fitted sk-toggleable__label-arrow fitted\">passthrough</label><div class=\"sk-toggleable__content fitted\"><pre>passthrough</pre></div> </div></div></div></div></div></div></div><div class=\"sk-item\"><div class=\"sk-estimator fitted sk-toggleable\"><input class=\"sk-toggleable__control sk-hidden--visually\" id=\"sk-estimator-id-18\" type=\"checkbox\" ><label for=\"sk-estimator-id-18\" class=\"sk-toggleable__label fitted sk-toggleable__label-arrow fitted\">&nbsp;MLPClassifier<a class=\"sk-estimator-doc-link fitted\" rel=\"noreferrer\" target=\"_blank\" href=\"https://scikit-learn.org/1.4/modules/generated/sklearn.neural_network.MLPClassifier.html\">?<span>Documentation for MLPClassifier</span></a></label><div class=\"sk-toggleable__content fitted\"><pre>MLPClassifier()</pre></div> </div></div></div></div></div></div></div></div></div></div></div>"
     },
     "execution_count": 157,
     "metadata": {},
     "output_type": "execute_result"
    }
   ],
   "source": [
    "# creating our pipeline\n",
    "clf_pipe = Pipeline(\n",
    "    steps=[('scaling', ct),\n",
    "           ('clf', MLPClassifier()),\n",
    "           ]\n",
    ")\n",
    "\n",
    "# let's define the hyper parameters \n",
    "hparameters = {\n",
    "    'clf__hidden_layer_sizes': ((20, 20), (30, 30)),  # neural network nodes\n",
    "    'clf__learning_rate_init': [0.0001, 0.001],  # learning rate\n",
    "}\n",
    "\n",
    "# GridSearchCV finds best hyper parameter\n",
    "clf_search = GridSearchCV(clf_pipe, hparameters, scoring=\"accuracy\", cv=5)\n",
    "\n",
    "clf_search.fit(X_train, y_train)"
   ],
   "metadata": {
    "collapsed": false,
    "ExecuteTime": {
     "end_time": "2024-02-29T20:18:06.474915Z",
     "start_time": "2024-02-29T20:11:24.544823Z"
    }
   },
   "id": "ceaf7e7db93fc19f",
   "execution_count": 157
  },
  {
   "cell_type": "code",
   "outputs": [
    {
     "name": "stdout",
     "output_type": "stream",
     "text": [
      "Best score and hyperparameter: 0.926375 {'clf__hidden_layer_sizes': (30, 30), 'clf__learning_rate_init': 0.001}\n"
     ]
    }
   ],
   "source": [
    "print(\"Best score and hyperparameter:\", clf_search.best_score_, clf_search.best_params_)\n",
    "\n",
    "best_clf = clf_search.best_estimator_"
   ],
   "metadata": {
    "collapsed": false,
    "ExecuteTime": {
     "end_time": "2024-02-29T20:20:33.547980Z",
     "start_time": "2024-02-29T20:20:33.502351Z"
    }
   },
   "id": "9969852c73aa72d4",
   "execution_count": 158
  },
  {
   "cell_type": "code",
   "outputs": [
    {
     "name": "stdout",
     "output_type": "stream",
     "text": [
      "              precision    recall  f1-score   support\n",
      "\n",
      "    negative       0.33      0.04      0.07       120\n",
      "     neutral       0.40      0.01      0.02       229\n",
      "    positive       0.92      1.00      0.96      3651\n",
      "\n",
      "    accuracy                           0.91      4000\n",
      "   macro avg       0.55      0.35      0.35      4000\n",
      "weighted avg       0.87      0.91      0.88      4000\n"
     ]
    },
    {
     "data": {
      "text/plain": "<Figure size 640x480 with 2 Axes>",
      "image/png": "[encoded data removed]"
     },
     "metadata": {},
     "output_type": "display_data"
    }
   ],
   "source": [
    "# now lets predict using best hyperparameters\n",
    "y_pred = best_clf.predict(X_test)\n",
    "print(classification_report(y_test, y_pred, target_names=[\"negative\", \"neutral\", \"positive\"]))\n",
    "\n",
    "cm = ConfusionMatrixDisplay.from_estimator(best_clf, X_test, y_test)"
   ],
   "metadata": {
    "collapsed": false,
    "ExecuteTime": {
     "end_time": "2024-02-29T20:21:15.570644Z",
     "start_time": "2024-02-29T20:21:15.241314Z"
    }
   },
   "id": "51b4adaea9b404c0",
   "execution_count": 160
  },
  {
   "cell_type": "markdown",
   "source": [
    "## Testing ##"
   ],
   "metadata": {
    "collapsed": false
   },
   "id": "682af0074c0b4b30"
  },
  {
   "cell_type": "code",
   "outputs": [],
   "source": [
    "def classify_text(text):\n",
    "    tokenized_text = preprocess(text)\n",
    "    vectorized_text = get_doc_embedding(tokenized_text)\n",
    "\n",
    "    columns = [i for i in range(0, len(vectorized_text))]\n",
    "\n",
    "    vectorized_df = pd.DataFrame([vectorized_text], columns=columns)\n",
    "\n",
    "    vectorized_df.columns = vectorized_df.columns.astype(str)\n",
    "\n",
    "    vectorized_df[\"text.length\"] = pd.Series(len(vectorized_text))\n",
    "\n",
    "    prediction = best_clf.predict(vectorized_df)\n",
    "\n",
    "    if prediction == 2:\n",
    "        return \"Positive\"\n",
    "    elif prediction == 1:\n",
    "        return \"Neutral\"\n",
    "    else:\n",
    "        return \"Negative\"\n"
   ],
   "metadata": {
    "collapsed": false,
    "ExecuteTime": {
     "end_time": "2024-02-29T20:22:29.443221Z",
     "start_time": "2024-02-29T20:22:29.433542Z"
    }
   },
   "id": "772eb724471caa07",
   "execution_count": 162
  },
  {
   "cell_type": "code",
   "outputs": [
    {
     "name": "stdout",
     "output_type": "stream",
     "text": [
      "Result: Positive\n"
     ]
    }
   ],
   "source": [
    "# Actual result: Positive\n",
    "result = classify_text(\n",
    "    \"This jacket is simply fantastic! The quality is superb, keeping me warm and stylish. It's versatile, great for outdoor adventures or casual outings. Highly recommend!\")\n",
    "\n",
    "print(\"Result:\", result)"
   ],
   "metadata": {
    "collapsed": false,
    "ExecuteTime": {
     "end_time": "2024-02-29T20:22:33.006930Z",
     "start_time": "2024-02-29T20:22:32.963302Z"
    }
   },
   "id": "9ce52797d39288dc",
   "execution_count": 163
  },
  {
   "cell_type": "code",
   "outputs": [
    {
     "name": "stdout",
     "output_type": "stream",
     "text": [
      "Result: Positive\n"
     ]
    }
   ],
   "source": [
    "# Actual result: Positive\n",
    "result = classify_text(\n",
    "    \"This car is phenomenal! It combines sleek design with top-notch performance. The driving experience is smooth and comfortable, with advanced features that enhance safety and convenience. Absolutely thrilled with this purchase!\")\n",
    "\n",
    "print(\"Result:\", result)"
   ],
   "metadata": {
    "collapsed": false,
    "ExecuteTime": {
     "end_time": "2024-02-29T20:22:36.038683Z",
     "start_time": "2024-02-29T20:22:35.987072Z"
    }
   },
   "id": "ff06449a3f4481b4",
   "execution_count": 164
  },
  {
   "cell_type": "code",
   "outputs": [
    {
     "name": "stdout",
     "output_type": "stream",
     "text": [
      "Result: Positive\n"
     ]
    }
   ],
   "source": [
    "# Actual result: Positive\n",
    "result = classify_text(\n",
    "    \"This laptop is outstanding! It boasts impressive speed, remarkable battery life, and a sleek design. Its high-resolution display and powerful performance make it perfect for work or entertainment. Couldn't be happier!\")\n",
    "\n",
    "print(\"Result:\", result)"
   ],
   "metadata": {
    "collapsed": false,
    "ExecuteTime": {
     "end_time": "2024-02-29T20:22:37.239757Z",
     "start_time": "2024-02-29T20:22:37.187323Z"
    }
   },
   "id": "1fffa9f4896b6f34",
   "execution_count": 165
  },
  {
   "cell_type": "code",
   "outputs": [
    {
     "name": "stdout",
     "output_type": "stream",
     "text": [
      "Result: Positive\n"
     ]
    }
   ],
   "source": [
    "# Actual result: Negative\n",
    "result = classify_text(\n",
    "    \"These pants are a disappointment. The fabric feels cheap and uncomfortable, and the fit is completely off. After just a few wears, seams started unraveling. Definitely not worth the price, regret buying them.\")\n",
    "\n",
    "print(\"Result:\", result)"
   ],
   "metadata": {
    "collapsed": false,
    "ExecuteTime": {
     "end_time": "2024-02-29T20:22:39.826694Z",
     "start_time": "2024-02-29T20:22:39.780013Z"
    }
   },
   "id": "bcf52595130aa3ca",
   "execution_count": 166
  },
  {
   "cell_type": "code",
   "outputs": [
    {
     "name": "stdout",
     "output_type": "stream",
     "text": [
      "Result: Negative\n"
     ]
    }
   ],
   "source": [
    "# Actual result: Negative\n",
    "result = classify_text(\n",
    "    \"This laptop is a letdown. Despite its promising specs, it constantly lags and freezes. The battery drains quickly, and the build quality feels flimsy. Customer support is unhelpful, leaving me frustrated and regretting my purchase.\")\n",
    "\n",
    "print(\"Result:\", result)"
   ],
   "metadata": {
    "collapsed": false,
    "ExecuteTime": {
     "end_time": "2024-02-29T20:22:41.170933Z",
     "start_time": "2024-02-29T20:22:41.098651Z"
    }
   },
   "id": "7cbccde4fda870f9",
   "execution_count": 167
  },
  {
   "cell_type": "code",
   "outputs": [
    {
     "name": "stdout",
     "output_type": "stream",
     "text": [
      "Result: Positive\n"
     ]
    }
   ],
   "source": [
    "# Actual result: Negative\n",
    "result = classify_text(\n",
    "    \"This phone is frustratingly unreliable. It frequently crashes, the battery life is abysmal, and the camera quality is disappointing. Despite its high price, it's plagued with glitches and lacks essential features. Utterly regret purchasing it.\")\n",
    "\n",
    "print(\"Result:\", result)"
   ],
   "metadata": {
    "collapsed": false,
    "ExecuteTime": {
     "end_time": "2024-02-29T20:22:46.887505Z",
     "start_time": "2024-02-29T20:22:46.813089Z"
    }
   },
   "id": "f7621b9b7a3d977d",
   "execution_count": 168
  },
  {
   "cell_type": "code",
   "outputs": [
    {
     "name": "stdout",
     "output_type": "stream",
     "text": [
      "Result: Positive\n"
     ]
    }
   ],
   "source": [
    "# Actual result: Neutral\n",
    "result = classify_text(\n",
    "    \"This card offers standard features and functionality. While it serves its purpose adequately, it lacks standout attributes or innovative benefits. It's a decent choice for everyday use but doesn't particularly excel in any specific aspect.\")\n",
    "\n",
    "print(\"Result:\", result)"
   ],
   "metadata": {
    "collapsed": false,
    "ExecuteTime": {
     "end_time": "2024-02-29T20:22:50.941894Z",
     "start_time": "2024-02-29T20:22:50.892435Z"
    }
   },
   "id": "6def8566795af3ca",
   "execution_count": 169
  },
  {
   "cell_type": "code",
   "outputs": [
    {
     "name": "stdout",
     "output_type": "stream",
     "text": [
      "Result: Positive\n"
     ]
    }
   ],
   "source": [
    "# Actual result: Neutral\n",
    "result = classify_text(\n",
    "    \"This car provides a satisfactory driving experience. It meets basic expectations for performance and comfort without exceeding them. While it's reliable for daily transportation, it doesn't offer any remarkable features or exceptional qualities.\")\n",
    "\n",
    "print(\"Result:\", result)"
   ],
   "metadata": {
    "collapsed": false,
    "ExecuteTime": {
     "end_time": "2024-02-29T20:22:54.755986Z",
     "start_time": "2024-02-29T20:22:54.697129Z"
    }
   },
   "id": "d94a1341852d3138",
   "execution_count": 170
  },
  {
   "cell_type": "markdown",
   "source": [
    "Over all model performing really good on positive comments (finds correct 3 out of 3) and on negative reviews it found correct 1 out 3, not bad. However, model did not work well for neutral comments."
   ],
   "metadata": {
    "collapsed": false
   },
   "id": "2ab84ecbdb739282"
  },
  {
   "cell_type": "markdown",
   "source": [
    "I think one of the reasons why model did not perform well on neutral comments is due to small number of datasets. We used only 20 000 out of around 35 000"
   ],
   "metadata": {
    "collapsed": false
   },
   "id": "1443e81b080bcccb"
  },
  {
   "cell_type": "code",
   "outputs": [
    {
     "data": {
      "text/plain": "category\n2    18441\n1     1016\n0      543\nName: count, dtype: int64"
     },
     "execution_count": 171,
     "metadata": {},
     "output_type": "execute_result"
    }
   ],
   "source": [
    "reviews_df.category.value_counts()"
   ],
   "metadata": {
    "collapsed": false,
    "ExecuteTime": {
     "end_time": "2024-02-29T20:24:41.534048Z",
     "start_time": "2024-02-29T20:24:41.501897Z"
    }
   },
   "id": "4d7093a47a3e2cdc",
   "execution_count": 171
  },
  {
   "cell_type": "markdown",
   "source": [
    "From here we can see there are a lot of positive comments (18441) which worked well, however number of negative and neutral comments are less which led poor performance of the model. But that means there are some works to optimize our model."
   ],
   "metadata": {
    "collapsed": false
   },
   "id": "6c3b66cc55161fca"
  }
 ],
 "metadata": {
  "kernelspec": {
   "display_name": "Python 3",
   "language": "python",
   "name": "python3"
  },
  "language_info": {
   "codemirror_mode": {
    "name": "ipython",
    "version": 2
   },
   "file_extension": ".py",
   "mimetype": "text/x-python",
   "name": "python",
   "nbconvert_exporter": "python",
   "pygments_lexer": "ipython2",
   "version": "2.7.6"
  }
 },
 "nbformat": 4,
 "nbformat_minor": 5
}
